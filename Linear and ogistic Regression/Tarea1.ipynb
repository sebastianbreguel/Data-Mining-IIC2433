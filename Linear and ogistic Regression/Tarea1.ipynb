{
  "nbformat": 4,
  "nbformat_minor": 0,
  "metadata": {
    "colab": {
      "name": "Tarea1_Breguel.ipynb",
      "provenance": [],
      "collapsed_sections": []
    },
    "kernelspec": {
      "name": "python3",
      "display_name": "Python 3"
    },
    "language_info": {
      "name": "python"
    },
    "accelerator": "GPU"
  },
  "cells": [
    {
      "cell_type": "markdown",
      "source": [
        "# IIC2433 - 2022-1"
      ],
      "metadata": {
        "id": "VK0aZCFHaCOT"
      }
    },
    {
      "cell_type": "markdown",
      "source": [
        "# Tarea 1 - It's free real estate"
      ],
      "metadata": {
        "id": "XzHzU8ug5TNq"
      }
    },
    {
      "cell_type": "markdown",
      "source": [
        "# Introducción"
      ],
      "metadata": {
        "id": "SugK90ojjLCl"
      }
    },
    {
      "cell_type": "markdown",
      "source": [
        "Vicencio Sabadez, mente de tiburón como siempre, decidió invertir en el mercado inmobiliario de EE.UU. Como Vicencio es un *vío*, decidió utilizar sus conocimientos de minería de datos para ayudarse a conocer el mercado en el que quiere ingresar.\n",
        "Pidiéndole ayuda a su amigo, Carlos Kaggle, consiguió un dataset con los detalles de diferentes casas, y sus precios respectivos. Con esto, quiere hacer una herramienta de predicción del precio de una casa ingresando otros valores pertinentes. Ahí es donde entras tú. Tendrás que trabajar los datos obtenidos por Vicencio, implementar **dos modelos de regresión, y analizarlos**.\n",
        "Se espera que las decisiones que tomes sean informadas y explicadas en el notebook para que Vicencio entienda lo que estás haciendo."
      ],
      "metadata": {
        "id": "Kh48bbP2jRE-"
      }
    },
    {
      "cell_type": "markdown",
      "source": [
        "# Formato de Entrega\n",
        "Deberás entregar SOLO el archivo .ipynb en el buzón respectivo en canvas. \n",
        "\n",
        "**IMPORTANTE**: \n",
        "- Se te dará puntaje tanto por código como por la manera en la que respondas las preguntas planteadas. Es decir, si tienes un código perfecto pero este no es explicado o no se responden preguntas asociadas a este, no se tendrá el puntaje perfecto.\n",
        "- El notebook debe tener todas las celdas de código ejecutadas. Cualquier notebook que no las tenga no podrá ser corregido.\n",
        "- El carácter de esta tarea es **INDIVIDUAL**. Cualquier instancia de copia resultará en un 1,1 como nota de curso."
      ],
      "metadata": {
        "id": "toYwgW4xFneR"
      }
    },
    {
      "cell_type": "markdown",
      "source": [
        "# LIBRERÍAS\n",
        "Librerías aceptadas:\n",
        "- Numpy\n",
        "- Pandas\n",
        "\n",
        "\n",
        "Librerías prohibidas:\n",
        "- sklearn\n",
        "- *Cualquier otra librería que maneje y prediga datos* "
      ],
      "metadata": {
        "id": "q1KVpoyF6E6Q"
      }
    },
    {
      "cell_type": "markdown",
      "source": [
        "## Parte 1: Manejo de datos (1.5 ptos.)\n"
      ],
      "metadata": {
        "id": "6YHnR9xBau9U"
      }
    },
    {
      "cell_type": "code",
      "source": [
        "import pandas as pd\n",
        "import numpy as np"
      ],
      "metadata": {
        "id": "VopmRAFVsjxF"
      },
      "execution_count": null,
      "outputs": []
    },
    {
      "cell_type": "markdown",
      "source": [
        "### 1.a Descripción de los datos (0.5 ptos.)"
      ],
      "metadata": {
        "id": "a7-xsxGK5wZH"
      }
    },
    {
      "cell_type": "markdown",
      "source": [
        "En esta sección, carga `real_estate.csv` y describe sus columnas. Estúdia el dataset. Recuerda tener claro que el objetivo de esto es predecir el precio de las casas."
      ],
      "metadata": {
        "id": "_CjWFFce564I"
      }
    },
    {
      "cell_type": "code",
      "source": [
        "dataset = pd.read_csv(\"real_estate.csv\")\n",
        "dataset"
      ],
      "metadata": {
        "id": "vgkx53wia9tk",
        "colab": {
          "base_uri": "https://localhost:8080/",
          "height": 852
        },
        "outputId": "e660176b-546f-412a-870c-52f0d5b5199d"
      },
      "execution_count": null,
      "outputs": [
        {
          "output_type": "execute_result",
          "data": {
            "text/plain": [
              "                     date         price  bedrooms  bathrooms  sqft_living  \\\n",
              "0     2014-05-02 00:00:00  3.130000e+05       3.0       1.50         1340   \n",
              "1     2014-05-02 00:00:00  2.384000e+06       5.0       2.50         3650   \n",
              "2     2014-05-02 00:00:00  3.420000e+05       3.0       2.00         1930   \n",
              "3     2014-05-02 00:00:00  4.200000e+05       3.0       2.25         2000   \n",
              "4     2014-05-02 00:00:00  5.500000e+05       4.0       2.50         1940   \n",
              "...                   ...           ...       ...        ...          ...   \n",
              "4595  2014-07-09 00:00:00  3.081667e+05       3.0       1.75         1510   \n",
              "4596  2014-07-09 00:00:00  5.343333e+05       3.0       2.50         1460   \n",
              "4597  2014-07-09 00:00:00  4.169042e+05       3.0       2.50         3010   \n",
              "4598  2014-07-10 00:00:00  2.034000e+05       4.0       2.00         2090   \n",
              "4599  2014-07-10 00:00:00  2.206000e+05       3.0       2.50         1490   \n",
              "\n",
              "      sqft_lot  floors  waterfront  view  condition  sqft_above  \\\n",
              "0         7912     1.5           0     0          3        1340   \n",
              "1         9050     2.0           0     4          5        3370   \n",
              "2        11947     1.0           0     0          4        1930   \n",
              "3         8030     1.0           0     0          4        1000   \n",
              "4        10500     1.0           0     0          4        1140   \n",
              "...        ...     ...         ...   ...        ...         ...   \n",
              "4595      6360     1.0           0     0          4        1510   \n",
              "4596      7573     2.0           0     0          3        1460   \n",
              "4597      7014     2.0           0     0          3        3010   \n",
              "4598      6630     1.0           0     0          3        1070   \n",
              "4599      8102     2.0           0     0          4        1490   \n",
              "\n",
              "      sqft_basement  yr_built  yr_renovated                    street  \\\n",
              "0                 0      1955          2005      18810 Densmore Ave N   \n",
              "1               280      1921             0           709 W Blaine St   \n",
              "2                 0      1966             0  26206-26214 143rd Ave SE   \n",
              "3              1000      1963             0           857 170th Pl NE   \n",
              "4               800      1976          1992         9105 170th Ave NE   \n",
              "...             ...       ...           ...                       ...   \n",
              "4595              0      1954          1979            501 N 143rd St   \n",
              "4596              0      1983          2009          14855 SE 10th Pl   \n",
              "4597              0      2009             0          759 Ilwaco Pl NE   \n",
              "4598           1020      1974             0         5148 S Creston St   \n",
              "4599              0      1990             0         18717 SE 258th St   \n",
              "\n",
              "           city  statezip country  \n",
              "0     Shoreline  WA 98133     USA  \n",
              "1       Seattle  WA 98119     USA  \n",
              "2          Kent  WA 98042     USA  \n",
              "3      Bellevue  WA 98008     USA  \n",
              "4       Redmond  WA 98052     USA  \n",
              "...         ...       ...     ...  \n",
              "4595    Seattle  WA 98133     USA  \n",
              "4596   Bellevue  WA 98007     USA  \n",
              "4597     Renton  WA 98059     USA  \n",
              "4598    Seattle  WA 98178     USA  \n",
              "4599  Covington  WA 98042     USA  \n",
              "\n",
              "[4600 rows x 18 columns]"
            ],
            "text/html": [
              "\n",
              "  <div id=\"df-1a884c17-8a66-4fa6-9ee0-dc2cc90856d1\">\n",
              "    <div class=\"colab-df-container\">\n",
              "      <div>\n",
              "<style scoped>\n",
              "    .dataframe tbody tr th:only-of-type {\n",
              "        vertical-align: middle;\n",
              "    }\n",
              "\n",
              "    .dataframe tbody tr th {\n",
              "        vertical-align: top;\n",
              "    }\n",
              "\n",
              "    .dataframe thead th {\n",
              "        text-align: right;\n",
              "    }\n",
              "</style>\n",
              "<table border=\"1\" class=\"dataframe\">\n",
              "  <thead>\n",
              "    <tr style=\"text-align: right;\">\n",
              "      <th></th>\n",
              "      <th>date</th>\n",
              "      <th>price</th>\n",
              "      <th>bedrooms</th>\n",
              "      <th>bathrooms</th>\n",
              "      <th>sqft_living</th>\n",
              "      <th>sqft_lot</th>\n",
              "      <th>floors</th>\n",
              "      <th>waterfront</th>\n",
              "      <th>view</th>\n",
              "      <th>condition</th>\n",
              "      <th>sqft_above</th>\n",
              "      <th>sqft_basement</th>\n",
              "      <th>yr_built</th>\n",
              "      <th>yr_renovated</th>\n",
              "      <th>street</th>\n",
              "      <th>city</th>\n",
              "      <th>statezip</th>\n",
              "      <th>country</th>\n",
              "    </tr>\n",
              "  </thead>\n",
              "  <tbody>\n",
              "    <tr>\n",
              "      <th>0</th>\n",
              "      <td>2014-05-02 00:00:00</td>\n",
              "      <td>3.130000e+05</td>\n",
              "      <td>3.0</td>\n",
              "      <td>1.50</td>\n",
              "      <td>1340</td>\n",
              "      <td>7912</td>\n",
              "      <td>1.5</td>\n",
              "      <td>0</td>\n",
              "      <td>0</td>\n",
              "      <td>3</td>\n",
              "      <td>1340</td>\n",
              "      <td>0</td>\n",
              "      <td>1955</td>\n",
              "      <td>2005</td>\n",
              "      <td>18810 Densmore Ave N</td>\n",
              "      <td>Shoreline</td>\n",
              "      <td>WA 98133</td>\n",
              "      <td>USA</td>\n",
              "    </tr>\n",
              "    <tr>\n",
              "      <th>1</th>\n",
              "      <td>2014-05-02 00:00:00</td>\n",
              "      <td>2.384000e+06</td>\n",
              "      <td>5.0</td>\n",
              "      <td>2.50</td>\n",
              "      <td>3650</td>\n",
              "      <td>9050</td>\n",
              "      <td>2.0</td>\n",
              "      <td>0</td>\n",
              "      <td>4</td>\n",
              "      <td>5</td>\n",
              "      <td>3370</td>\n",
              "      <td>280</td>\n",
              "      <td>1921</td>\n",
              "      <td>0</td>\n",
              "      <td>709 W Blaine St</td>\n",
              "      <td>Seattle</td>\n",
              "      <td>WA 98119</td>\n",
              "      <td>USA</td>\n",
              "    </tr>\n",
              "    <tr>\n",
              "      <th>2</th>\n",
              "      <td>2014-05-02 00:00:00</td>\n",
              "      <td>3.420000e+05</td>\n",
              "      <td>3.0</td>\n",
              "      <td>2.00</td>\n",
              "      <td>1930</td>\n",
              "      <td>11947</td>\n",
              "      <td>1.0</td>\n",
              "      <td>0</td>\n",
              "      <td>0</td>\n",
              "      <td>4</td>\n",
              "      <td>1930</td>\n",
              "      <td>0</td>\n",
              "      <td>1966</td>\n",
              "      <td>0</td>\n",
              "      <td>26206-26214 143rd Ave SE</td>\n",
              "      <td>Kent</td>\n",
              "      <td>WA 98042</td>\n",
              "      <td>USA</td>\n",
              "    </tr>\n",
              "    <tr>\n",
              "      <th>3</th>\n",
              "      <td>2014-05-02 00:00:00</td>\n",
              "      <td>4.200000e+05</td>\n",
              "      <td>3.0</td>\n",
              "      <td>2.25</td>\n",
              "      <td>2000</td>\n",
              "      <td>8030</td>\n",
              "      <td>1.0</td>\n",
              "      <td>0</td>\n",
              "      <td>0</td>\n",
              "      <td>4</td>\n",
              "      <td>1000</td>\n",
              "      <td>1000</td>\n",
              "      <td>1963</td>\n",
              "      <td>0</td>\n",
              "      <td>857 170th Pl NE</td>\n",
              "      <td>Bellevue</td>\n",
              "      <td>WA 98008</td>\n",
              "      <td>USA</td>\n",
              "    </tr>\n",
              "    <tr>\n",
              "      <th>4</th>\n",
              "      <td>2014-05-02 00:00:00</td>\n",
              "      <td>5.500000e+05</td>\n",
              "      <td>4.0</td>\n",
              "      <td>2.50</td>\n",
              "      <td>1940</td>\n",
              "      <td>10500</td>\n",
              "      <td>1.0</td>\n",
              "      <td>0</td>\n",
              "      <td>0</td>\n",
              "      <td>4</td>\n",
              "      <td>1140</td>\n",
              "      <td>800</td>\n",
              "      <td>1976</td>\n",
              "      <td>1992</td>\n",
              "      <td>9105 170th Ave NE</td>\n",
              "      <td>Redmond</td>\n",
              "      <td>WA 98052</td>\n",
              "      <td>USA</td>\n",
              "    </tr>\n",
              "    <tr>\n",
              "      <th>...</th>\n",
              "      <td>...</td>\n",
              "      <td>...</td>\n",
              "      <td>...</td>\n",
              "      <td>...</td>\n",
              "      <td>...</td>\n",
              "      <td>...</td>\n",
              "      <td>...</td>\n",
              "      <td>...</td>\n",
              "      <td>...</td>\n",
              "      <td>...</td>\n",
              "      <td>...</td>\n",
              "      <td>...</td>\n",
              "      <td>...</td>\n",
              "      <td>...</td>\n",
              "      <td>...</td>\n",
              "      <td>...</td>\n",
              "      <td>...</td>\n",
              "      <td>...</td>\n",
              "    </tr>\n",
              "    <tr>\n",
              "      <th>4595</th>\n",
              "      <td>2014-07-09 00:00:00</td>\n",
              "      <td>3.081667e+05</td>\n",
              "      <td>3.0</td>\n",
              "      <td>1.75</td>\n",
              "      <td>1510</td>\n",
              "      <td>6360</td>\n",
              "      <td>1.0</td>\n",
              "      <td>0</td>\n",
              "      <td>0</td>\n",
              "      <td>4</td>\n",
              "      <td>1510</td>\n",
              "      <td>0</td>\n",
              "      <td>1954</td>\n",
              "      <td>1979</td>\n",
              "      <td>501 N 143rd St</td>\n",
              "      <td>Seattle</td>\n",
              "      <td>WA 98133</td>\n",
              "      <td>USA</td>\n",
              "    </tr>\n",
              "    <tr>\n",
              "      <th>4596</th>\n",
              "      <td>2014-07-09 00:00:00</td>\n",
              "      <td>5.343333e+05</td>\n",
              "      <td>3.0</td>\n",
              "      <td>2.50</td>\n",
              "      <td>1460</td>\n",
              "      <td>7573</td>\n",
              "      <td>2.0</td>\n",
              "      <td>0</td>\n",
              "      <td>0</td>\n",
              "      <td>3</td>\n",
              "      <td>1460</td>\n",
              "      <td>0</td>\n",
              "      <td>1983</td>\n",
              "      <td>2009</td>\n",
              "      <td>14855 SE 10th Pl</td>\n",
              "      <td>Bellevue</td>\n",
              "      <td>WA 98007</td>\n",
              "      <td>USA</td>\n",
              "    </tr>\n",
              "    <tr>\n",
              "      <th>4597</th>\n",
              "      <td>2014-07-09 00:00:00</td>\n",
              "      <td>4.169042e+05</td>\n",
              "      <td>3.0</td>\n",
              "      <td>2.50</td>\n",
              "      <td>3010</td>\n",
              "      <td>7014</td>\n",
              "      <td>2.0</td>\n",
              "      <td>0</td>\n",
              "      <td>0</td>\n",
              "      <td>3</td>\n",
              "      <td>3010</td>\n",
              "      <td>0</td>\n",
              "      <td>2009</td>\n",
              "      <td>0</td>\n",
              "      <td>759 Ilwaco Pl NE</td>\n",
              "      <td>Renton</td>\n",
              "      <td>WA 98059</td>\n",
              "      <td>USA</td>\n",
              "    </tr>\n",
              "    <tr>\n",
              "      <th>4598</th>\n",
              "      <td>2014-07-10 00:00:00</td>\n",
              "      <td>2.034000e+05</td>\n",
              "      <td>4.0</td>\n",
              "      <td>2.00</td>\n",
              "      <td>2090</td>\n",
              "      <td>6630</td>\n",
              "      <td>1.0</td>\n",
              "      <td>0</td>\n",
              "      <td>0</td>\n",
              "      <td>3</td>\n",
              "      <td>1070</td>\n",
              "      <td>1020</td>\n",
              "      <td>1974</td>\n",
              "      <td>0</td>\n",
              "      <td>5148 S Creston St</td>\n",
              "      <td>Seattle</td>\n",
              "      <td>WA 98178</td>\n",
              "      <td>USA</td>\n",
              "    </tr>\n",
              "    <tr>\n",
              "      <th>4599</th>\n",
              "      <td>2014-07-10 00:00:00</td>\n",
              "      <td>2.206000e+05</td>\n",
              "      <td>3.0</td>\n",
              "      <td>2.50</td>\n",
              "      <td>1490</td>\n",
              "      <td>8102</td>\n",
              "      <td>2.0</td>\n",
              "      <td>0</td>\n",
              "      <td>0</td>\n",
              "      <td>4</td>\n",
              "      <td>1490</td>\n",
              "      <td>0</td>\n",
              "      <td>1990</td>\n",
              "      <td>0</td>\n",
              "      <td>18717 SE 258th St</td>\n",
              "      <td>Covington</td>\n",
              "      <td>WA 98042</td>\n",
              "      <td>USA</td>\n",
              "    </tr>\n",
              "  </tbody>\n",
              "</table>\n",
              "<p>4600 rows × 18 columns</p>\n",
              "</div>\n",
              "      <button class=\"colab-df-convert\" onclick=\"convertToInteractive('df-1a884c17-8a66-4fa6-9ee0-dc2cc90856d1')\"\n",
              "              title=\"Convert this dataframe to an interactive table.\"\n",
              "              style=\"display:none;\">\n",
              "        \n",
              "  <svg xmlns=\"http://www.w3.org/2000/svg\" height=\"24px\"viewBox=\"0 0 24 24\"\n",
              "       width=\"24px\">\n",
              "    <path d=\"M0 0h24v24H0V0z\" fill=\"none\"/>\n",
              "    <path d=\"M18.56 5.44l.94 2.06.94-2.06 2.06-.94-2.06-.94-.94-2.06-.94 2.06-2.06.94zm-11 1L8.5 8.5l.94-2.06 2.06-.94-2.06-.94L8.5 2.5l-.94 2.06-2.06.94zm10 10l.94 2.06.94-2.06 2.06-.94-2.06-.94-.94-2.06-.94 2.06-2.06.94z\"/><path d=\"M17.41 7.96l-1.37-1.37c-.4-.4-.92-.59-1.43-.59-.52 0-1.04.2-1.43.59L10.3 9.45l-7.72 7.72c-.78.78-.78 2.05 0 2.83L4 21.41c.39.39.9.59 1.41.59.51 0 1.02-.2 1.41-.59l7.78-7.78 2.81-2.81c.8-.78.8-2.07 0-2.86zM5.41 20L4 18.59l7.72-7.72 1.47 1.35L5.41 20z\"/>\n",
              "  </svg>\n",
              "      </button>\n",
              "      \n",
              "  <style>\n",
              "    .colab-df-container {\n",
              "      display:flex;\n",
              "      flex-wrap:wrap;\n",
              "      gap: 12px;\n",
              "    }\n",
              "\n",
              "    .colab-df-convert {\n",
              "      background-color: #E8F0FE;\n",
              "      border: none;\n",
              "      border-radius: 50%;\n",
              "      cursor: pointer;\n",
              "      display: none;\n",
              "      fill: #1967D2;\n",
              "      height: 32px;\n",
              "      padding: 0 0 0 0;\n",
              "      width: 32px;\n",
              "    }\n",
              "\n",
              "    .colab-df-convert:hover {\n",
              "      background-color: #E2EBFA;\n",
              "      box-shadow: 0px 1px 2px rgba(60, 64, 67, 0.3), 0px 1px 3px 1px rgba(60, 64, 67, 0.15);\n",
              "      fill: #174EA6;\n",
              "    }\n",
              "\n",
              "    [theme=dark] .colab-df-convert {\n",
              "      background-color: #3B4455;\n",
              "      fill: #D2E3FC;\n",
              "    }\n",
              "\n",
              "    [theme=dark] .colab-df-convert:hover {\n",
              "      background-color: #434B5C;\n",
              "      box-shadow: 0px 1px 3px 1px rgba(0, 0, 0, 0.15);\n",
              "      filter: drop-shadow(0px 1px 2px rgba(0, 0, 0, 0.3));\n",
              "      fill: #FFFFFF;\n",
              "    }\n",
              "  </style>\n",
              "\n",
              "      <script>\n",
              "        const buttonEl =\n",
              "          document.querySelector('#df-1a884c17-8a66-4fa6-9ee0-dc2cc90856d1 button.colab-df-convert');\n",
              "        buttonEl.style.display =\n",
              "          google.colab.kernel.accessAllowed ? 'block' : 'none';\n",
              "\n",
              "        async function convertToInteractive(key) {\n",
              "          const element = document.querySelector('#df-1a884c17-8a66-4fa6-9ee0-dc2cc90856d1');\n",
              "          const dataTable =\n",
              "            await google.colab.kernel.invokeFunction('convertToInteractive',\n",
              "                                                     [key], {});\n",
              "          if (!dataTable) return;\n",
              "\n",
              "          const docLinkHtml = 'Like what you see? Visit the ' +\n",
              "            '<a target=\"_blank\" href=https://colab.research.google.com/notebooks/data_table.ipynb>data table notebook</a>'\n",
              "            + ' to learn more about interactive tables.';\n",
              "          element.innerHTML = '';\n",
              "          dataTable['output_type'] = 'display_data';\n",
              "          await google.colab.output.renderOutput(dataTable, element);\n",
              "          const docLink = document.createElement('div');\n",
              "          docLink.innerHTML = docLinkHtml;\n",
              "          element.appendChild(docLink);\n",
              "        }\n",
              "      </script>\n",
              "    </div>\n",
              "  </div>\n",
              "  "
            ]
          },
          "metadata": {},
          "execution_count": 279
        }
      ]
    },
    {
      "cell_type": "markdown",
      "source": [
        "Haz un gráfico donde se vea la distribución de los precios de las casas. Además de esto, haz una representación gráfica de almenos 2 de las otras columnas.\n",
        "(Estas últimas pueden ser gráficos de barra, histogramas, etc.).\n"
      ],
      "metadata": {
        "id": "9YTl22cu6ymQ"
      }
    },
    {
      "cell_type": "code",
      "source": [
        "dataset['price'].hist(bins = 100)"
      ],
      "metadata": {
        "id": "2iCx8Frx64M-",
        "colab": {
          "base_uri": "https://localhost:8080/",
          "height": 295
        },
        "outputId": "9c801736-5032-4cf3-cde9-fd16ec94071c"
      },
      "execution_count": null,
      "outputs": [
        {
          "output_type": "execute_result",
          "data": {
            "text/plain": [
              "<matplotlib.axes._subplots.AxesSubplot at 0x7f434ff45f90>"
            ]
          },
          "metadata": {},
          "execution_count": 280
        },
        {
          "output_type": "display_data",
          "data": {
            "text/plain": [
              "<Figure size 432x288 with 1 Axes>"
            ],
            "image/png": "[encoded data removed]"
          },
          "metadata": {
            "needs_background": "light"
          }
        }
      ]
    },
    {
      "cell_type": "code",
      "source": [
        "dataset['yr_built'].hist(bins = 100)"
      ],
      "metadata": {
        "colab": {
          "base_uri": "https://localhost:8080/",
          "height": 283
        },
        "id": "r2JQ-AM0ps35",
        "outputId": "8e5c218b-56db-4fb8-98b5-72e1286c3503"
      },
      "execution_count": null,
      "outputs": [
        {
          "output_type": "execute_result",
          "data": {
            "text/plain": [
              "<matplotlib.axes._subplots.AxesSubplot at 0x7f434fef9c50>"
            ]
          },
          "metadata": {},
          "execution_count": 281
        },
        {
          "output_type": "display_data",
          "data": {
            "text/plain": [
              "<Figure size 432x288 with 1 Axes>"
            ],
            "image/png": "[encoded data removed]"
          },
          "metadata": {
            "needs_background": "light"
          }
        }
      ]
    },
    {
      "cell_type": "code",
      "source": [
        "dataset['sqft_above'].hist(bins = 100)"
      ],
      "metadata": {
        "colab": {
          "base_uri": "https://localhost:8080/",
          "height": 283
        },
        "id": "pKb4TUPIqAq7",
        "outputId": "d4791a61-25d7-4d45-bbc1-22c46b31972e"
      },
      "execution_count": null,
      "outputs": [
        {
          "output_type": "execute_result",
          "data": {
            "text/plain": [
              "<matplotlib.axes._subplots.AxesSubplot at 0x7f434fdcf0d0>"
            ]
          },
          "metadata": {},
          "execution_count": 282
        },
        {
          "output_type": "display_data",
          "data": {
            "text/plain": [
              "<Figure size 432x288 with 1 Axes>"
            ],
            "image/png": "[encoded data removed]"
          },
          "metadata": {
            "needs_background": "light"
          }
        }
      ]
    },
    {
      "cell_type": "markdown",
      "source": [
        "Describimos cada columna:"
      ],
      "metadata": {
        "id": "sX85F9763o6_"
      }
    },
    {
      "cell_type": "code",
      "source": [
        "dataset.keys()\n",
        "for key in dataset.keys():\n",
        "  print(\"\\n\")\n",
        "  print(\"COLUMNA:\",key)\n",
        "  print(\"\")\n",
        "  print(dataset[key].describe())\n",
        "  print(\"\")"
      ],
      "metadata": {
        "colab": {
          "base_uri": "https://localhost:8080/"
        },
        "id": "GgAg1eLQ2xf8",
        "outputId": "c26b15f3-b17e-4cb2-899d-1d379db5eb68"
      },
      "execution_count": null,
      "outputs": [
        {
          "output_type": "stream",
          "name": "stdout",
          "text": [
            "\n",
            "\n",
            "COLUMNA: date\n",
            "\n",
            "count                    4600\n",
            "unique                     70\n",
            "top       2014-06-23 00:00:00\n",
            "freq                      142\n",
            "Name: date, dtype: object\n",
            "\n",
            "\n",
            "\n",
            "COLUMNA: price\n",
            "\n",
            "count    4.600000e+03\n",
            "mean     5.519630e+05\n",
            "std      5.638347e+05\n",
            "min      0.000000e+00\n",
            "25%      3.228750e+05\n",
            "50%      4.609435e+05\n",
            "75%      6.549625e+05\n",
            "max      2.659000e+07\n",
            "Name: price, dtype: float64\n",
            "\n",
            "\n",
            "\n",
            "COLUMNA: bedrooms\n",
            "\n",
            "count    4600.000000\n",
            "mean        3.400870\n",
            "std         0.908848\n",
            "min         0.000000\n",
            "25%         3.000000\n",
            "50%         3.000000\n",
            "75%         4.000000\n",
            "max         9.000000\n",
            "Name: bedrooms, dtype: float64\n",
            "\n",
            "\n",
            "\n",
            "COLUMNA: bathrooms\n",
            "\n",
            "count    4600.000000\n",
            "mean        2.160815\n",
            "std         0.783781\n",
            "min         0.000000\n",
            "25%         1.750000\n",
            "50%         2.250000\n",
            "75%         2.500000\n",
            "max         8.000000\n",
            "Name: bathrooms, dtype: float64\n",
            "\n",
            "\n",
            "\n",
            "COLUMNA: sqft_living\n",
            "\n",
            "count     4600.000000\n",
            "mean      2139.346957\n",
            "std        963.206916\n",
            "min        370.000000\n",
            "25%       1460.000000\n",
            "50%       1980.000000\n",
            "75%       2620.000000\n",
            "max      13540.000000\n",
            "Name: sqft_living, dtype: float64\n",
            "\n",
            "\n",
            "\n",
            "COLUMNA: sqft_lot\n",
            "\n",
            "count    4.600000e+03\n",
            "mean     1.485252e+04\n",
            "std      3.588444e+04\n",
            "min      6.380000e+02\n",
            "25%      5.000750e+03\n",
            "50%      7.683000e+03\n",
            "75%      1.100125e+04\n",
            "max      1.074218e+06\n",
            "Name: sqft_lot, dtype: float64\n",
            "\n",
            "\n",
            "\n",
            "COLUMNA: floors\n",
            "\n",
            "count    4600.000000\n",
            "mean        1.512065\n",
            "std         0.538288\n",
            "min         1.000000\n",
            "25%         1.000000\n",
            "50%         1.500000\n",
            "75%         2.000000\n",
            "max         3.500000\n",
            "Name: floors, dtype: float64\n",
            "\n",
            "\n",
            "\n",
            "COLUMNA: waterfront\n",
            "\n",
            "count    4600.000000\n",
            "mean        0.007174\n",
            "std         0.084404\n",
            "min         0.000000\n",
            "25%         0.000000\n",
            "50%         0.000000\n",
            "75%         0.000000\n",
            "max         1.000000\n",
            "Name: waterfront, dtype: float64\n",
            "\n",
            "\n",
            "\n",
            "COLUMNA: view\n",
            "\n",
            "count    4600.000000\n",
            "mean        0.240652\n",
            "std         0.778405\n",
            "min         0.000000\n",
            "25%         0.000000\n",
            "50%         0.000000\n",
            "75%         0.000000\n",
            "max         4.000000\n",
            "Name: view, dtype: float64\n",
            "\n",
            "\n",
            "\n",
            "COLUMNA: condition\n",
            "\n",
            "count    4600.000000\n",
            "mean        3.451739\n",
            "std         0.677230\n",
            "min         1.000000\n",
            "25%         3.000000\n",
            "50%         3.000000\n",
            "75%         4.000000\n",
            "max         5.000000\n",
            "Name: condition, dtype: float64\n",
            "\n",
            "\n",
            "\n",
            "COLUMNA: sqft_above\n",
            "\n",
            "count    4600.000000\n",
            "mean     1827.265435\n",
            "std       862.168977\n",
            "min       370.000000\n",
            "25%      1190.000000\n",
            "50%      1590.000000\n",
            "75%      2300.000000\n",
            "max      9410.000000\n",
            "Name: sqft_above, dtype: float64\n",
            "\n",
            "\n",
            "\n",
            "COLUMNA: sqft_basement\n",
            "\n",
            "count    4600.000000\n",
            "mean      312.081522\n",
            "std       464.137228\n",
            "min         0.000000\n",
            "25%         0.000000\n",
            "50%         0.000000\n",
            "75%       610.000000\n",
            "max      4820.000000\n",
            "Name: sqft_basement, dtype: float64\n",
            "\n",
            "\n",
            "\n",
            "COLUMNA: yr_built\n",
            "\n",
            "count    4600.000000\n",
            "mean     1970.786304\n",
            "std        29.731848\n",
            "min      1900.000000\n",
            "25%      1951.000000\n",
            "50%      1976.000000\n",
            "75%      1997.000000\n",
            "max      2014.000000\n",
            "Name: yr_built, dtype: float64\n",
            "\n",
            "\n",
            "\n",
            "COLUMNA: yr_renovated\n",
            "\n",
            "count    4600.000000\n",
            "mean      808.608261\n",
            "std       979.414536\n",
            "min         0.000000\n",
            "25%         0.000000\n",
            "50%         0.000000\n",
            "75%      1999.000000\n",
            "max      2014.000000\n",
            "Name: yr_renovated, dtype: float64\n",
            "\n",
            "\n",
            "\n",
            "COLUMNA: street\n",
            "\n",
            "count                      4600\n",
            "unique                     4525\n",
            "top       2520 Mulberry Walk NE\n",
            "freq                          4\n",
            "Name: street, dtype: object\n",
            "\n",
            "\n",
            "\n",
            "COLUMNA: city\n",
            "\n",
            "count        4600\n",
            "unique         44\n",
            "top       Seattle\n",
            "freq         1573\n",
            "Name: city, dtype: object\n",
            "\n",
            "\n",
            "\n",
            "COLUMNA: statezip\n",
            "\n",
            "count         4600\n",
            "unique          77\n",
            "top       WA 98103\n",
            "freq           148\n",
            "Name: statezip, dtype: object\n",
            "\n",
            "\n",
            "\n",
            "COLUMNA: country\n",
            "\n",
            "count     4600\n",
            "unique       1\n",
            "top        USA\n",
            "freq      4600\n",
            "Name: country, dtype: object\n",
            "\n"
          ]
        }
      ]
    },
    {
      "cell_type": "markdown",
      "source": [
        "### 1.b Manejo de información sobrante y outliers (0.3 ptos.)"
      ],
      "metadata": {
        "id": "gtFYRefb64ho"
      }
    },
    {
      "cell_type": "markdown",
      "source": [
        "En esta sección elimina las columnas que crees no necesarias para los modelos que harás. Debes explicar la razón de eliminación de cada columna.\n",
        "HINT: Para una primera limpieza, ten en mente el tipo de las columnas presentes (categóricas o numéricas)."
      ],
      "metadata": {
        "id": "QcGQcPlF7_Vv"
      }
    },
    {
      "cell_type": "markdown",
      "source": [
        "#Primero\n",
        "lo que haremos sera, mostrar la cantidad de diferentes valores que tiene cada columna, para luego mostrar las que nos pareces mascaracteristicas:"
      ],
      "metadata": {
        "id": "lSvF_Q5Q4HPM"
      }
    },
    {
      "cell_type": "code",
      "source": [
        "dataset.nunique()"
      ],
      "metadata": {
        "colab": {
          "base_uri": "https://localhost:8080/"
        },
        "id": "PTw7tBKI4GNx",
        "outputId": "1bd33e13-85ac-4473-b918-52c55596dfa1"
      },
      "execution_count": null,
      "outputs": [
        {
          "output_type": "execute_result",
          "data": {
            "text/plain": [
              "date               70\n",
              "price            1741\n",
              "bedrooms           10\n",
              "bathrooms          26\n",
              "sqft_living       566\n",
              "sqft_lot         3113\n",
              "floors              6\n",
              "waterfront          2\n",
              "view                5\n",
              "condition           5\n",
              "sqft_above        511\n",
              "sqft_basement     207\n",
              "yr_built          115\n",
              "yr_renovated       60\n",
              "street           4525\n",
              "city               44\n",
              "statezip           77\n",
              "country             1\n",
              "dtype: int64"
            ]
          },
          "metadata": {},
          "execution_count": 284
        }
      ]
    },
    {
      "cell_type": "code",
      "source": [
        "dataset[\"country\"].value_counts()"
      ],
      "metadata": {
        "id": "n99XJpPt7HnQ",
        "colab": {
          "base_uri": "https://localhost:8080/"
        },
        "outputId": "7b9ef086-a169-42fa-b9ef-22f50ccf96f6"
      },
      "execution_count": null,
      "outputs": [
        {
          "output_type": "execute_result",
          "data": {
            "text/plain": [
              "USA    4600\n",
              "Name: country, dtype: int64"
            ]
          },
          "metadata": {},
          "execution_count": 285
        }
      ]
    },
    {
      "cell_type": "code",
      "source": [
        "dataset[\"statezip\"].value_counts()"
      ],
      "metadata": {
        "id": "G2hrh_P2-Xw3",
        "colab": {
          "base_uri": "https://localhost:8080/"
        },
        "outputId": "10c0286b-5505-47a4-b7a3-70596ce95137"
      },
      "execution_count": null,
      "outputs": [
        {
          "output_type": "execute_result",
          "data": {
            "text/plain": [
              "WA 98103    148\n",
              "WA 98052    135\n",
              "WA 98117    132\n",
              "WA 98115    130\n",
              "WA 98006    110\n",
              "           ... \n",
              "WA 98047      6\n",
              "WA 98288      3\n",
              "WA 98050      2\n",
              "WA 98354      2\n",
              "WA 98068      1\n",
              "Name: statezip, Length: 77, dtype: int64"
            ]
          },
          "metadata": {},
          "execution_count": 286
        }
      ]
    },
    {
      "cell_type": "code",
      "source": [
        "dataset[\"street\"].value_counts()"
      ],
      "metadata": {
        "colab": {
          "base_uri": "https://localhost:8080/"
        },
        "id": "16gvGTMo-dMu",
        "outputId": "ad4b5acd-fc73-48d2-9007-ed0d4f8f0c9b"
      },
      "execution_count": null,
      "outputs": [
        {
          "output_type": "execute_result",
          "data": {
            "text/plain": [
              "2520 Mulberry Walk NE     4\n",
              "2500 Mulberry Walk NE     3\n",
              "9413 34th Ave SW          2\n",
              "6008 8th Ave NE           2\n",
              "11034 NE 26th Pl          2\n",
              "                         ..\n",
              "1404 Broadmoor Dr E       1\n",
              "3249 E Ames Lake Dr NE    1\n",
              "6032 35th Ave NE          1\n",
              "1006 NE Ravenna Blvd      1\n",
              "18717 SE 258th St         1\n",
              "Name: street, Length: 4525, dtype: int64"
            ]
          },
          "metadata": {},
          "execution_count": 287
        }
      ]
    },
    {
      "cell_type": "code",
      "source": [
        "dataset[\"sqft_basement\"].value_counts()"
      ],
      "metadata": {
        "colab": {
          "base_uri": "https://localhost:8080/"
        },
        "id": "8eH2TjZJdhC4",
        "outputId": "85f5f28b-727f-40dd-8dc2-1e2cd2e9724a"
      },
      "execution_count": null,
      "outputs": [
        {
          "output_type": "execute_result",
          "data": {
            "text/plain": [
              "0       2745\n",
              "500       53\n",
              "600       45\n",
              "800       43\n",
              "900       41\n",
              "        ... \n",
              "2300       1\n",
              "265        1\n",
              "1610       1\n",
              "862        1\n",
              "1640       1\n",
              "Name: sqft_basement, Length: 207, dtype: int64"
            ]
          },
          "metadata": {},
          "execution_count": 288
        }
      ]
    },
    {
      "cell_type": "markdown",
      "source": [
        "Con estos valores mostrados, decidimos eliminar las siguientes columnas:\n",
        "- City: Notamos que todas las ciudades tambien son de Washington, que a diferencia del codigo zip, podriamos obtener la informacion discretizada, si obtuvieramos el digito especifico quitando los caracter \"WA\".\n",
        "- Country: Todos los datos del dataset, tienen el mismo valor en la columna, por lo que no sera de utilidad.\n",
        "- Date: Lo borraremos, ya que no sirve para el caso que estamos analizando.\n",
        "- Street: Si notamos este valor, tambien diferencia por el numero que compone a la variable categorica.  Donde esto genera que se 2% se repita.\n",
        "- Sqft_basement: en este caso, notamos que la mitad de los datos son nulos, junto con esto, la logica de intentar encontrar una relacion entre el precio de una casa y el tamano de su sotano."
      ],
      "metadata": {
        "id": "vzLDHLi4--tS"
      }
    },
    {
      "cell_type": "code",
      "source": [
        "del dataset['city']\n",
        "del dataset['country']\n",
        "del dataset['date']\n",
        "del dataset['street']\n",
        "del dataset['sqft_basement']\n"
      ],
      "metadata": {
        "id": "RCmgpQXoj50F"
      },
      "execution_count": null,
      "outputs": []
    },
    {
      "cell_type": "markdown",
      "source": [
        "Ahora aplicamos el filtro por el cual sacamos \"city\", para encontrar el statezip"
      ],
      "metadata": {
        "id": "1NczdBF04u-T"
      }
    },
    {
      "cell_type": "code",
      "source": [
        "def ziper(wenlo):\n",
        "  return int(wenlo[3:])\n",
        "dataset['statezip'] = dataset['statezip'].apply(ziper)\n",
        "dataset"
      ],
      "metadata": {
        "id": "tbpbcAuUMFI_",
        "colab": {
          "base_uri": "https://localhost:8080/",
          "height": 487
        },
        "outputId": "ffa02098-378f-450f-c420-cd1a4db2195d"
      },
      "execution_count": null,
      "outputs": [
        {
          "output_type": "execute_result",
          "data": {
            "text/plain": [
              "             price  bedrooms  bathrooms  sqft_living  sqft_lot  floors  \\\n",
              "0     3.130000e+05       3.0       1.50         1340      7912     1.5   \n",
              "1     2.384000e+06       5.0       2.50         3650      9050     2.0   \n",
              "2     3.420000e+05       3.0       2.00         1930     11947     1.0   \n",
              "3     4.200000e+05       3.0       2.25         2000      8030     1.0   \n",
              "4     5.500000e+05       4.0       2.50         1940     10500     1.0   \n",
              "...            ...       ...        ...          ...       ...     ...   \n",
              "4595  3.081667e+05       3.0       1.75         1510      6360     1.0   \n",
              "4596  5.343333e+05       3.0       2.50         1460      7573     2.0   \n",
              "4597  4.169042e+05       3.0       2.50         3010      7014     2.0   \n",
              "4598  2.034000e+05       4.0       2.00         2090      6630     1.0   \n",
              "4599  2.206000e+05       3.0       2.50         1490      8102     2.0   \n",
              "\n",
              "      waterfront  view  condition  sqft_above  yr_built  yr_renovated  \\\n",
              "0              0     0          3        1340      1955          2005   \n",
              "1              0     4          5        3370      1921             0   \n",
              "2              0     0          4        1930      1966             0   \n",
              "3              0     0          4        1000      1963             0   \n",
              "4              0     0          4        1140      1976          1992   \n",
              "...          ...   ...        ...         ...       ...           ...   \n",
              "4595           0     0          4        1510      1954          1979   \n",
              "4596           0     0          3        1460      1983          2009   \n",
              "4597           0     0          3        3010      2009             0   \n",
              "4598           0     0          3        1070      1974             0   \n",
              "4599           0     0          4        1490      1990             0   \n",
              "\n",
              "      statezip  \n",
              "0        98133  \n",
              "1        98119  \n",
              "2        98042  \n",
              "3        98008  \n",
              "4        98052  \n",
              "...        ...  \n",
              "4595     98133  \n",
              "4596     98007  \n",
              "4597     98059  \n",
              "4598     98178  \n",
              "4599     98042  \n",
              "\n",
              "[4600 rows x 13 columns]"
            ],
            "text/html": [
              "\n",
              "  <div id=\"df-93def818-432d-4039-a557-a1442b434f40\">\n",
              "    <div class=\"colab-df-container\">\n",
              "      <div>\n",
              "<style scoped>\n",
              "    .dataframe tbody tr th:only-of-type {\n",
              "        vertical-align: middle;\n",
              "    }\n",
              "\n",
              "    .dataframe tbody tr th {\n",
              "        vertical-align: top;\n",
              "    }\n",
              "\n",
              "    .dataframe thead th {\n",
              "        text-align: right;\n",
              "    }\n",
              "</style>\n",
              "<table border=\"1\" class=\"dataframe\">\n",
              "  <thead>\n",
              "    <tr style=\"text-align: right;\">\n",
              "      <th></th>\n",
              "      <th>price</th>\n",
              "      <th>bedrooms</th>\n",
              "      <th>bathrooms</th>\n",
              "      <th>sqft_living</th>\n",
              "      <th>sqft_lot</th>\n",
              "      <th>floors</th>\n",
              "      <th>waterfront</th>\n",
              "      <th>view</th>\n",
              "      <th>condition</th>\n",
              "      <th>sqft_above</th>\n",
              "      <th>yr_built</th>\n",
              "      <th>yr_renovated</th>\n",
              "      <th>statezip</th>\n",
              "    </tr>\n",
              "  </thead>\n",
              "  <tbody>\n",
              "    <tr>\n",
              "      <th>0</th>\n",
              "      <td>3.130000e+05</td>\n",
              "      <td>3.0</td>\n",
              "      <td>1.50</td>\n",
              "      <td>1340</td>\n",
              "      <td>7912</td>\n",
              "      <td>1.5</td>\n",
              "      <td>0</td>\n",
              "      <td>0</td>\n",
              "      <td>3</td>\n",
              "      <td>1340</td>\n",
              "      <td>1955</td>\n",
              "      <td>2005</td>\n",
              "      <td>98133</td>\n",
              "    </tr>\n",
              "    <tr>\n",
              "      <th>1</th>\n",
              "      <td>2.384000e+06</td>\n",
              "      <td>5.0</td>\n",
              "      <td>2.50</td>\n",
              "      <td>3650</td>\n",
              "      <td>9050</td>\n",
              "      <td>2.0</td>\n",
              "      <td>0</td>\n",
              "      <td>4</td>\n",
              "      <td>5</td>\n",
              "      <td>3370</td>\n",
              "      <td>1921</td>\n",
              "      <td>0</td>\n",
              "      <td>98119</td>\n",
              "    </tr>\n",
              "    <tr>\n",
              "      <th>2</th>\n",
              "      <td>3.420000e+05</td>\n",
              "      <td>3.0</td>\n",
              "      <td>2.00</td>\n",
              "      <td>1930</td>\n",
              "      <td>11947</td>\n",
              "      <td>1.0</td>\n",
              "      <td>0</td>\n",
              "      <td>0</td>\n",
              "      <td>4</td>\n",
              "      <td>1930</td>\n",
              "      <td>1966</td>\n",
              "      <td>0</td>\n",
              "      <td>98042</td>\n",
              "    </tr>\n",
              "    <tr>\n",
              "      <th>3</th>\n",
              "      <td>4.200000e+05</td>\n",
              "      <td>3.0</td>\n",
              "      <td>2.25</td>\n",
              "      <td>2000</td>\n",
              "      <td>8030</td>\n",
              "      <td>1.0</td>\n",
              "      <td>0</td>\n",
              "      <td>0</td>\n",
              "      <td>4</td>\n",
              "      <td>1000</td>\n",
              "      <td>1963</td>\n",
              "      <td>0</td>\n",
              "      <td>98008</td>\n",
              "    </tr>\n",
              "    <tr>\n",
              "      <th>4</th>\n",
              "      <td>5.500000e+05</td>\n",
              "      <td>4.0</td>\n",
              "      <td>2.50</td>\n",
              "      <td>1940</td>\n",
              "      <td>10500</td>\n",
              "      <td>1.0</td>\n",
              "      <td>0</td>\n",
              "      <td>0</td>\n",
              "      <td>4</td>\n",
              "      <td>1140</td>\n",
              "      <td>1976</td>\n",
              "      <td>1992</td>\n",
              "      <td>98052</td>\n",
              "    </tr>\n",
              "    <tr>\n",
              "      <th>...</th>\n",
              "      <td>...</td>\n",
              "      <td>...</td>\n",
              "      <td>...</td>\n",
              "      <td>...</td>\n",
              "      <td>...</td>\n",
              "      <td>...</td>\n",
              "      <td>...</td>\n",
              "      <td>...</td>\n",
              "      <td>...</td>\n",
              "      <td>...</td>\n",
              "      <td>...</td>\n",
              "      <td>...</td>\n",
              "      <td>...</td>\n",
              "    </tr>\n",
              "    <tr>\n",
              "      <th>4595</th>\n",
              "      <td>3.081667e+05</td>\n",
              "      <td>3.0</td>\n",
              "      <td>1.75</td>\n",
              "      <td>1510</td>\n",
              "      <td>6360</td>\n",
              "      <td>1.0</td>\n",
              "      <td>0</td>\n",
              "      <td>0</td>\n",
              "      <td>4</td>\n",
              "      <td>1510</td>\n",
              "      <td>1954</td>\n",
              "      <td>1979</td>\n",
              "      <td>98133</td>\n",
              "    </tr>\n",
              "    <tr>\n",
              "      <th>4596</th>\n",
              "      <td>5.343333e+05</td>\n",
              "      <td>3.0</td>\n",
              "      <td>2.50</td>\n",
              "      <td>1460</td>\n",
              "      <td>7573</td>\n",
              "      <td>2.0</td>\n",
              "      <td>0</td>\n",
              "      <td>0</td>\n",
              "      <td>3</td>\n",
              "      <td>1460</td>\n",
              "      <td>1983</td>\n",
              "      <td>2009</td>\n",
              "      <td>98007</td>\n",
              "    </tr>\n",
              "    <tr>\n",
              "      <th>4597</th>\n",
              "      <td>4.169042e+05</td>\n",
              "      <td>3.0</td>\n",
              "      <td>2.50</td>\n",
              "      <td>3010</td>\n",
              "      <td>7014</td>\n",
              "      <td>2.0</td>\n",
              "      <td>0</td>\n",
              "      <td>0</td>\n",
              "      <td>3</td>\n",
              "      <td>3010</td>\n",
              "      <td>2009</td>\n",
              "      <td>0</td>\n",
              "      <td>98059</td>\n",
              "    </tr>\n",
              "    <tr>\n",
              "      <th>4598</th>\n",
              "      <td>2.034000e+05</td>\n",
              "      <td>4.0</td>\n",
              "      <td>2.00</td>\n",
              "      <td>2090</td>\n",
              "      <td>6630</td>\n",
              "      <td>1.0</td>\n",
              "      <td>0</td>\n",
              "      <td>0</td>\n",
              "      <td>3</td>\n",
              "      <td>1070</td>\n",
              "      <td>1974</td>\n",
              "      <td>0</td>\n",
              "      <td>98178</td>\n",
              "    </tr>\n",
              "    <tr>\n",
              "      <th>4599</th>\n",
              "      <td>2.206000e+05</td>\n",
              "      <td>3.0</td>\n",
              "      <td>2.50</td>\n",
              "      <td>1490</td>\n",
              "      <td>8102</td>\n",
              "      <td>2.0</td>\n",
              "      <td>0</td>\n",
              "      <td>0</td>\n",
              "      <td>4</td>\n",
              "      <td>1490</td>\n",
              "      <td>1990</td>\n",
              "      <td>0</td>\n",
              "      <td>98042</td>\n",
              "    </tr>\n",
              "  </tbody>\n",
              "</table>\n",
              "<p>4600 rows × 13 columns</p>\n",
              "</div>\n",
              "      <button class=\"colab-df-convert\" onclick=\"convertToInteractive('df-93def818-432d-4039-a557-a1442b434f40')\"\n",
              "              title=\"Convert this dataframe to an interactive table.\"\n",
              "              style=\"display:none;\">\n",
              "        \n",
              "  <svg xmlns=\"http://www.w3.org/2000/svg\" height=\"24px\"viewBox=\"0 0 24 24\"\n",
              "       width=\"24px\">\n",
              "    <path d=\"M0 0h24v24H0V0z\" fill=\"none\"/>\n",
              "    <path d=\"M18.56 5.44l.94 2.06.94-2.06 2.06-.94-2.06-.94-.94-2.06-.94 2.06-2.06.94zm-11 1L8.5 8.5l.94-2.06 2.06-.94-2.06-.94L8.5 2.5l-.94 2.06-2.06.94zm10 10l.94 2.06.94-2.06 2.06-.94-2.06-.94-.94-2.06-.94 2.06-2.06.94z\"/><path d=\"M17.41 7.96l-1.37-1.37c-.4-.4-.92-.59-1.43-.59-.52 0-1.04.2-1.43.59L10.3 9.45l-7.72 7.72c-.78.78-.78 2.05 0 2.83L4 21.41c.39.39.9.59 1.41.59.51 0 1.02-.2 1.41-.59l7.78-7.78 2.81-2.81c.8-.78.8-2.07 0-2.86zM5.41 20L4 18.59l7.72-7.72 1.47 1.35L5.41 20z\"/>\n",
              "  </svg>\n",
              "      </button>\n",
              "      \n",
              "  <style>\n",
              "    .colab-df-container {\n",
              "      display:flex;\n",
              "      flex-wrap:wrap;\n",
              "      gap: 12px;\n",
              "    }\n",
              "\n",
              "    .colab-df-convert {\n",
              "      background-color: #E8F0FE;\n",
              "      border: none;\n",
              "      border-radius: 50%;\n",
              "      cursor: pointer;\n",
              "      display: none;\n",
              "      fill: #1967D2;\n",
              "      height: 32px;\n",
              "      padding: 0 0 0 0;\n",
              "      width: 32px;\n",
              "    }\n",
              "\n",
              "    .colab-df-convert:hover {\n",
              "      background-color: #E2EBFA;\n",
              "      box-shadow: 0px 1px 2px rgba(60, 64, 67, 0.3), 0px 1px 3px 1px rgba(60, 64, 67, 0.15);\n",
              "      fill: #174EA6;\n",
              "    }\n",
              "\n",
              "    [theme=dark] .colab-df-convert {\n",
              "      background-color: #3B4455;\n",
              "      fill: #D2E3FC;\n",
              "    }\n",
              "\n",
              "    [theme=dark] .colab-df-convert:hover {\n",
              "      background-color: #434B5C;\n",
              "      box-shadow: 0px 1px 3px 1px rgba(0, 0, 0, 0.15);\n",
              "      filter: drop-shadow(0px 1px 2px rgba(0, 0, 0, 0.3));\n",
              "      fill: #FFFFFF;\n",
              "    }\n",
              "  </style>\n",
              "\n",
              "      <script>\n",
              "        const buttonEl =\n",
              "          document.querySelector('#df-93def818-432d-4039-a557-a1442b434f40 button.colab-df-convert');\n",
              "        buttonEl.style.display =\n",
              "          google.colab.kernel.accessAllowed ? 'block' : 'none';\n",
              "\n",
              "        async function convertToInteractive(key) {\n",
              "          const element = document.querySelector('#df-93def818-432d-4039-a557-a1442b434f40');\n",
              "          const dataTable =\n",
              "            await google.colab.kernel.invokeFunction('convertToInteractive',\n",
              "                                                     [key], {});\n",
              "          if (!dataTable) return;\n",
              "\n",
              "          const docLinkHtml = 'Like what you see? Visit the ' +\n",
              "            '<a target=\"_blank\" href=https://colab.research.google.com/notebooks/data_table.ipynb>data table notebook</a>'\n",
              "            + ' to learn more about interactive tables.';\n",
              "          element.innerHTML = '';\n",
              "          dataTable['output_type'] = 'display_data';\n",
              "          await google.colab.output.renderOutput(dataTable, element);\n",
              "          const docLink = document.createElement('div');\n",
              "          docLink.innerHTML = docLinkHtml;\n",
              "          element.appendChild(docLink);\n",
              "        }\n",
              "      </script>\n",
              "    </div>\n",
              "  </div>\n",
              "  "
            ]
          },
          "metadata": {},
          "execution_count": 290
        }
      ]
    },
    {
      "cell_type": "markdown",
      "source": [
        "En la parte 1.a observaste la distribución de los precios de las casas. ¿Se ven outliers? Si es así, trabájalos a tu juicio. Es importante que expliques tu proceso de pensamiento al tomar tus decisiones."
      ],
      "metadata": {
        "id": "RJZAxYJGAKrx"
      }
    },
    {
      "cell_type": "markdown",
      "source": [
        "Si se ven,esto puede quedar demostrado con un boxplot"
      ],
      "metadata": {
        "id": "vJvqA_Uh87oV"
      }
    },
    {
      "cell_type": "code",
      "source": [
        "dataset.boxplot(column=['price'])"
      ],
      "metadata": {
        "id": "iRpEuOOJ9Ibs",
        "colab": {
          "base_uri": "https://localhost:8080/",
          "height": 294
        },
        "outputId": "b31e9827-a089-41a7-b0f9-7351d51e6e80"
      },
      "execution_count": null,
      "outputs": [
        {
          "output_type": "execute_result",
          "data": {
            "text/plain": [
              "<matplotlib.axes._subplots.AxesSubplot at 0x7f434fc7ce10>"
            ]
          },
          "metadata": {},
          "execution_count": 291
        },
        {
          "output_type": "display_data",
          "data": {
            "text/plain": [
              "<Figure size 432x288 with 1 Axes>"
            ],
            "image/png": "[encoded data removed]"
          },
          "metadata": {
            "needs_background": "light"
          }
        }
      ]
    },
    {
      "cell_type": "markdown",
      "source": [
        "Con esto notamos que hay 3 outliers, que son datos que se escapan del promecio, por lo que eliminaremos estos con una restriccion"
      ],
      "metadata": {
        "id": "VXDJYOdNxuJ-"
      }
    },
    {
      "cell_type": "code",
      "source": [
        "dataset = dataset[dataset['price'] <= 5_000_000]\n",
        "dataset"
      ],
      "metadata": {
        "colab": {
          "base_uri": "https://localhost:8080/",
          "height": 487
        },
        "id": "bqwtpAC4yKde",
        "outputId": "bd17df7f-b65d-4f6e-ce16-cedec0693bef"
      },
      "execution_count": null,
      "outputs": [
        {
          "output_type": "execute_result",
          "data": {
            "text/plain": [
              "             price  bedrooms  bathrooms  sqft_living  sqft_lot  floors  \\\n",
              "0     3.130000e+05       3.0       1.50         1340      7912     1.5   \n",
              "1     2.384000e+06       5.0       2.50         3650      9050     2.0   \n",
              "2     3.420000e+05       3.0       2.00         1930     11947     1.0   \n",
              "3     4.200000e+05       3.0       2.25         2000      8030     1.0   \n",
              "4     5.500000e+05       4.0       2.50         1940     10500     1.0   \n",
              "...            ...       ...        ...          ...       ...     ...   \n",
              "4595  3.081667e+05       3.0       1.75         1510      6360     1.0   \n",
              "4596  5.343333e+05       3.0       2.50         1460      7573     2.0   \n",
              "4597  4.169042e+05       3.0       2.50         3010      7014     2.0   \n",
              "4598  2.034000e+05       4.0       2.00         2090      6630     1.0   \n",
              "4599  2.206000e+05       3.0       2.50         1490      8102     2.0   \n",
              "\n",
              "      waterfront  view  condition  sqft_above  yr_built  yr_renovated  \\\n",
              "0              0     0          3        1340      1955          2005   \n",
              "1              0     4          5        3370      1921             0   \n",
              "2              0     0          4        1930      1966             0   \n",
              "3              0     0          4        1000      1963             0   \n",
              "4              0     0          4        1140      1976          1992   \n",
              "...          ...   ...        ...         ...       ...           ...   \n",
              "4595           0     0          4        1510      1954          1979   \n",
              "4596           0     0          3        1460      1983          2009   \n",
              "4597           0     0          3        3010      2009             0   \n",
              "4598           0     0          3        1070      1974             0   \n",
              "4599           0     0          4        1490      1990             0   \n",
              "\n",
              "      statezip  \n",
              "0        98133  \n",
              "1        98119  \n",
              "2        98042  \n",
              "3        98008  \n",
              "4        98052  \n",
              "...        ...  \n",
              "4595     98133  \n",
              "4596     98007  \n",
              "4597     98059  \n",
              "4598     98178  \n",
              "4599     98042  \n",
              "\n",
              "[4597 rows x 13 columns]"
            ],
            "text/html": [
              "\n",
              "  <div id=\"df-da195738-ecc1-407d-b45a-87a68fbd9e93\">\n",
              "    <div class=\"colab-df-container\">\n",
              "      <div>\n",
              "<style scoped>\n",
              "    .dataframe tbody tr th:only-of-type {\n",
              "        vertical-align: middle;\n",
              "    }\n",
              "\n",
              "    .dataframe tbody tr th {\n",
              "        vertical-align: top;\n",
              "    }\n",
              "\n",
              "    .dataframe thead th {\n",
              "        text-align: right;\n",
              "    }\n",
              "</style>\n",
              "<table border=\"1\" class=\"dataframe\">\n",
              "  <thead>\n",
              "    <tr style=\"text-align: right;\">\n",
              "      <th></th>\n",
              "      <th>price</th>\n",
              "      <th>bedrooms</th>\n",
              "      <th>bathrooms</th>\n",
              "      <th>sqft_living</th>\n",
              "      <th>sqft_lot</th>\n",
              "      <th>floors</th>\n",
              "      <th>waterfront</th>\n",
              "      <th>view</th>\n",
              "      <th>condition</th>\n",
              "      <th>sqft_above</th>\n",
              "      <th>yr_built</th>\n",
              "      <th>yr_renovated</th>\n",
              "      <th>statezip</th>\n",
              "    </tr>\n",
              "  </thead>\n",
              "  <tbody>\n",
              "    <tr>\n",
              "      <th>0</th>\n",
              "      <td>3.130000e+05</td>\n",
              "      <td>3.0</td>\n",
              "      <td>1.50</td>\n",
              "      <td>1340</td>\n",
              "      <td>7912</td>\n",
              "      <td>1.5</td>\n",
              "      <td>0</td>\n",
              "      <td>0</td>\n",
              "      <td>3</td>\n",
              "      <td>1340</td>\n",
              "      <td>1955</td>\n",
              "      <td>2005</td>\n",
              "      <td>98133</td>\n",
              "    </tr>\n",
              "    <tr>\n",
              "      <th>1</th>\n",
              "      <td>2.384000e+06</td>\n",
              "      <td>5.0</td>\n",
              "      <td>2.50</td>\n",
              "      <td>3650</td>\n",
              "      <td>9050</td>\n",
              "      <td>2.0</td>\n",
              "      <td>0</td>\n",
              "      <td>4</td>\n",
              "      <td>5</td>\n",
              "      <td>3370</td>\n",
              "      <td>1921</td>\n",
              "      <td>0</td>\n",
              "      <td>98119</td>\n",
              "    </tr>\n",
              "    <tr>\n",
              "      <th>2</th>\n",
              "      <td>3.420000e+05</td>\n",
              "      <td>3.0</td>\n",
              "      <td>2.00</td>\n",
              "      <td>1930</td>\n",
              "      <td>11947</td>\n",
              "      <td>1.0</td>\n",
              "      <td>0</td>\n",
              "      <td>0</td>\n",
              "      <td>4</td>\n",
              "      <td>1930</td>\n",
              "      <td>1966</td>\n",
              "      <td>0</td>\n",
              "      <td>98042</td>\n",
              "    </tr>\n",
              "    <tr>\n",
              "      <th>3</th>\n",
              "      <td>4.200000e+05</td>\n",
              "      <td>3.0</td>\n",
              "      <td>2.25</td>\n",
              "      <td>2000</td>\n",
              "      <td>8030</td>\n",
              "      <td>1.0</td>\n",
              "      <td>0</td>\n",
              "      <td>0</td>\n",
              "      <td>4</td>\n",
              "      <td>1000</td>\n",
              "      <td>1963</td>\n",
              "      <td>0</td>\n",
              "      <td>98008</td>\n",
              "    </tr>\n",
              "    <tr>\n",
              "      <th>4</th>\n",
              "      <td>5.500000e+05</td>\n",
              "      <td>4.0</td>\n",
              "      <td>2.50</td>\n",
              "      <td>1940</td>\n",
              "      <td>10500</td>\n",
              "      <td>1.0</td>\n",
              "      <td>0</td>\n",
              "      <td>0</td>\n",
              "      <td>4</td>\n",
              "      <td>1140</td>\n",
              "      <td>1976</td>\n",
              "      <td>1992</td>\n",
              "      <td>98052</td>\n",
              "    </tr>\n",
              "    <tr>\n",
              "      <th>...</th>\n",
              "      <td>...</td>\n",
              "      <td>...</td>\n",
              "      <td>...</td>\n",
              "      <td>...</td>\n",
              "      <td>...</td>\n",
              "      <td>...</td>\n",
              "      <td>...</td>\n",
              "      <td>...</td>\n",
              "      <td>...</td>\n",
              "      <td>...</td>\n",
              "      <td>...</td>\n",
              "      <td>...</td>\n",
              "      <td>...</td>\n",
              "    </tr>\n",
              "    <tr>\n",
              "      <th>4595</th>\n",
              "      <td>3.081667e+05</td>\n",
              "      <td>3.0</td>\n",
              "      <td>1.75</td>\n",
              "      <td>1510</td>\n",
              "      <td>6360</td>\n",
              "      <td>1.0</td>\n",
              "      <td>0</td>\n",
              "      <td>0</td>\n",
              "      <td>4</td>\n",
              "      <td>1510</td>\n",
              "      <td>1954</td>\n",
              "      <td>1979</td>\n",
              "      <td>98133</td>\n",
              "    </tr>\n",
              "    <tr>\n",
              "      <th>4596</th>\n",
              "      <td>5.343333e+05</td>\n",
              "      <td>3.0</td>\n",
              "      <td>2.50</td>\n",
              "      <td>1460</td>\n",
              "      <td>7573</td>\n",
              "      <td>2.0</td>\n",
              "      <td>0</td>\n",
              "      <td>0</td>\n",
              "      <td>3</td>\n",
              "      <td>1460</td>\n",
              "      <td>1983</td>\n",
              "      <td>2009</td>\n",
              "      <td>98007</td>\n",
              "    </tr>\n",
              "    <tr>\n",
              "      <th>4597</th>\n",
              "      <td>4.169042e+05</td>\n",
              "      <td>3.0</td>\n",
              "      <td>2.50</td>\n",
              "      <td>3010</td>\n",
              "      <td>7014</td>\n",
              "      <td>2.0</td>\n",
              "      <td>0</td>\n",
              "      <td>0</td>\n",
              "      <td>3</td>\n",
              "      <td>3010</td>\n",
              "      <td>2009</td>\n",
              "      <td>0</td>\n",
              "      <td>98059</td>\n",
              "    </tr>\n",
              "    <tr>\n",
              "      <th>4598</th>\n",
              "      <td>2.034000e+05</td>\n",
              "      <td>4.0</td>\n",
              "      <td>2.00</td>\n",
              "      <td>2090</td>\n",
              "      <td>6630</td>\n",
              "      <td>1.0</td>\n",
              "      <td>0</td>\n",
              "      <td>0</td>\n",
              "      <td>3</td>\n",
              "      <td>1070</td>\n",
              "      <td>1974</td>\n",
              "      <td>0</td>\n",
              "      <td>98178</td>\n",
              "    </tr>\n",
              "    <tr>\n",
              "      <th>4599</th>\n",
              "      <td>2.206000e+05</td>\n",
              "      <td>3.0</td>\n",
              "      <td>2.50</td>\n",
              "      <td>1490</td>\n",
              "      <td>8102</td>\n",
              "      <td>2.0</td>\n",
              "      <td>0</td>\n",
              "      <td>0</td>\n",
              "      <td>4</td>\n",
              "      <td>1490</td>\n",
              "      <td>1990</td>\n",
              "      <td>0</td>\n",
              "      <td>98042</td>\n",
              "    </tr>\n",
              "  </tbody>\n",
              "</table>\n",
              "<p>4597 rows × 13 columns</p>\n",
              "</div>\n",
              "      <button class=\"colab-df-convert\" onclick=\"convertToInteractive('df-da195738-ecc1-407d-b45a-87a68fbd9e93')\"\n",
              "              title=\"Convert this dataframe to an interactive table.\"\n",
              "              style=\"display:none;\">\n",
              "        \n",
              "  <svg xmlns=\"http://www.w3.org/2000/svg\" height=\"24px\"viewBox=\"0 0 24 24\"\n",
              "       width=\"24px\">\n",
              "    <path d=\"M0 0h24v24H0V0z\" fill=\"none\"/>\n",
              "    <path d=\"M18.56 5.44l.94 2.06.94-2.06 2.06-.94-2.06-.94-.94-2.06-.94 2.06-2.06.94zm-11 1L8.5 8.5l.94-2.06 2.06-.94-2.06-.94L8.5 2.5l-.94 2.06-2.06.94zm10 10l.94 2.06.94-2.06 2.06-.94-2.06-.94-.94-2.06-.94 2.06-2.06.94z\"/><path d=\"M17.41 7.96l-1.37-1.37c-.4-.4-.92-.59-1.43-.59-.52 0-1.04.2-1.43.59L10.3 9.45l-7.72 7.72c-.78.78-.78 2.05 0 2.83L4 21.41c.39.39.9.59 1.41.59.51 0 1.02-.2 1.41-.59l7.78-7.78 2.81-2.81c.8-.78.8-2.07 0-2.86zM5.41 20L4 18.59l7.72-7.72 1.47 1.35L5.41 20z\"/>\n",
              "  </svg>\n",
              "      </button>\n",
              "      \n",
              "  <style>\n",
              "    .colab-df-container {\n",
              "      display:flex;\n",
              "      flex-wrap:wrap;\n",
              "      gap: 12px;\n",
              "    }\n",
              "\n",
              "    .colab-df-convert {\n",
              "      background-color: #E8F0FE;\n",
              "      border: none;\n",
              "      border-radius: 50%;\n",
              "      cursor: pointer;\n",
              "      display: none;\n",
              "      fill: #1967D2;\n",
              "      height: 32px;\n",
              "      padding: 0 0 0 0;\n",
              "      width: 32px;\n",
              "    }\n",
              "\n",
              "    .colab-df-convert:hover {\n",
              "      background-color: #E2EBFA;\n",
              "      box-shadow: 0px 1px 2px rgba(60, 64, 67, 0.3), 0px 1px 3px 1px rgba(60, 64, 67, 0.15);\n",
              "      fill: #174EA6;\n",
              "    }\n",
              "\n",
              "    [theme=dark] .colab-df-convert {\n",
              "      background-color: #3B4455;\n",
              "      fill: #D2E3FC;\n",
              "    }\n",
              "\n",
              "    [theme=dark] .colab-df-convert:hover {\n",
              "      background-color: #434B5C;\n",
              "      box-shadow: 0px 1px 3px 1px rgba(0, 0, 0, 0.15);\n",
              "      filter: drop-shadow(0px 1px 2px rgba(0, 0, 0, 0.3));\n",
              "      fill: #FFFFFF;\n",
              "    }\n",
              "  </style>\n",
              "\n",
              "      <script>\n",
              "        const buttonEl =\n",
              "          document.querySelector('#df-da195738-ecc1-407d-b45a-87a68fbd9e93 button.colab-df-convert');\n",
              "        buttonEl.style.display =\n",
              "          google.colab.kernel.accessAllowed ? 'block' : 'none';\n",
              "\n",
              "        async function convertToInteractive(key) {\n",
              "          const element = document.querySelector('#df-da195738-ecc1-407d-b45a-87a68fbd9e93');\n",
              "          const dataTable =\n",
              "            await google.colab.kernel.invokeFunction('convertToInteractive',\n",
              "                                                     [key], {});\n",
              "          if (!dataTable) return;\n",
              "\n",
              "          const docLinkHtml = 'Like what you see? Visit the ' +\n",
              "            '<a target=\"_blank\" href=https://colab.research.google.com/notebooks/data_table.ipynb>data table notebook</a>'\n",
              "            + ' to learn more about interactive tables.';\n",
              "          element.innerHTML = '';\n",
              "          dataTable['output_type'] = 'display_data';\n",
              "          await google.colab.output.renderOutput(dataTable, element);\n",
              "          const docLink = document.createElement('div');\n",
              "          docLink.innerHTML = docLinkHtml;\n",
              "          element.appendChild(docLink);\n",
              "        }\n",
              "      </script>\n",
              "    </div>\n",
              "  </div>\n",
              "  "
            ]
          },
          "metadata": {},
          "execution_count": 292
        }
      ]
    },
    {
      "cell_type": "code",
      "source": [
        "dataset.boxplot(column=['price'])"
      ],
      "metadata": {
        "colab": {
          "base_uri": "https://localhost:8080/",
          "height": 294
        },
        "id": "mr5GxM18ylaA",
        "outputId": "046c658c-5ce5-4e7b-cbbf-2a1d498a8b87"
      },
      "execution_count": null,
      "outputs": [
        {
          "output_type": "execute_result",
          "data": {
            "text/plain": [
              "<matplotlib.axes._subplots.AxesSubplot at 0x7f434fa52410>"
            ]
          },
          "metadata": {},
          "execution_count": 293
        },
        {
          "output_type": "display_data",
          "data": {
            "text/plain": [
              "<Figure size 432x288 with 1 Axes>"
            ],
            "image/png": "[encoded data removed]"
          },
          "metadata": {
            "needs_background": "light"
          }
        }
      ]
    },
    {
      "cell_type": "code",
      "source": [
        "dataset.insert(0, \"new\", 1, allow_duplicates=False)\n",
        "dataset = dataset.sample(frac=1).reset_index(drop=True)"
      ],
      "metadata": {
        "id": "Ukl7r0jS405W"
      },
      "execution_count": null,
      "outputs": []
    },
    {
      "cell_type": "markdown",
      "source": [
        "### 1.c Separación del dataset (0.2 ptos)\n",
        "Necesitamos saber qué tan confiables son los modelos. Por esto, saca una pequeña muestra de tu dataset y déjala aparte. Es importante que no entrenes las regresiones con ellos. (Saca el 10% de los datos)"
      ],
      "metadata": {
        "id": "IJxmkCFCtFND"
      }
    },
    {
      "cell_type": "code",
      "source": [
        "# Completa aqui\n",
        "train_dataset = dataset.sample(frac = 0.9)\n",
        "test_dataset = dataset.drop(train_dataset.index)"
      ],
      "metadata": {
        "id": "OkZ98nhJmIVl"
      },
      "execution_count": null,
      "outputs": []
    },
    {
      "cell_type": "markdown",
      "source": [
        "### 1.d Transformación del dataset (0.5 ptos)"
      ],
      "metadata": {
        "id": "1hSJdEVhkvL8"
      }
    },
    {
      "cell_type": "markdown",
      "source": [
        "Ahora que ya tienes tu dataset trabajado y separado, necesitamos transformarlo a parámetros utilizables por la regresión a implementar. En la parte 3 se trabajará un poco más, pero por ahora, sólo separa el dataset en una matriz $X$ conteniendo todas las características, y un vector $y$ conteniendo la variable dependiente asociada a cada una de las filas de características.\n",
        "Es decir, $y$ es un vector de lo que queremos predecir, y $X$ es una matriz de lo que usaremos para hacerlo.\n",
        "Recomendamos **FUERTEMENTE** utilizar numpy para esto ya que tiene funciones muy útiles para manejo de matrices y vectores, pero no es obligación."
      ],
      "metadata": {
        "id": "1WUdnjl-k-XM"
      }
    },
    {
      "cell_type": "code",
      "source": [
        "# Obten los vectores X e y a partir de train_dataset\n",
        "X_train = train_dataset.loc[:, train_dataset.columns != 'price'].to_numpy()\n",
        "y_train = train_dataset['price'].to_numpy()\n",
        "X_tested = test_dataset.loc[:, test_dataset.columns != 'price'].to_numpy()\n",
        "y_tested = test_dataset['price'].to_numpy()\n",
        "print(len(X_train), len(X_tested))"
      ],
      "metadata": {
        "id": "H_ca97vpmBW0",
        "colab": {
          "base_uri": "https://localhost:8080/"
        },
        "outputId": "3071d59c-eff0-435b-99ee-c934baaf44dd"
      },
      "execution_count": null,
      "outputs": [
        {
          "output_type": "stream",
          "name": "stdout",
          "text": [
            "4137 460\n"
          ]
        }
      ]
    },
    {
      "cell_type": "markdown",
      "source": [
        "## Parte 2: Regresión Lineal (2 ptos.)\n",
        "En esta parte, deberás hacer una implementación de una regresión lineal con el método \"Least squares\" (visto en clases). Para esto deberás completar la clase `LinearRegression`, en especifico sus métodos fit y predict.\n"
      ],
      "metadata": {
        "id": "g_wS_X7mipCX"
      }
    },
    {
      "cell_type": "markdown",
      "source": [
        "### Forma A: sistema de ecuaciones\n",
        "\n",
        "Una regresión lineal se define de la siguiente manera:\n",
        "\n",
        "$$\\hat{y}-b_{0}=b_{1}\\left(x_{1}-\\bar{x}_{1}\\right)+b_{2}\\left(x_{2}-\\bar{x}_{2}\\right)+\\cdots+b_{k}\\left(x_{k}-\\bar{x}_{k}\\right)$$\n",
        "\n",
        "Es decir:\n",
        "\n",
        "$$\n",
        "\\hat{y}-b_{0}=\\sum_{j=1}^{k} b_{j}\\left(x_{j}-\\bar{x}_{j}\\right)\n",
        "$$\n",
        "\n",
        "$\\bf{Teorema}$: la mejor línea de regresión tiene forma:\n",
        "\n",
        "$$ \\hat{y} - \\overline{y} = \\sum_{j=1}^kb_j(x_j-\\overline{x_j})$$\n",
        "\n",
        "Donde $b_m$ son las soluciones a las siguientes $k$ ecuaciones con $k$ valores desconocidos.\n",
        "$$\n",
        "\\forall j\\in\\{1,k\\} \\quad \\operatorname{cov}\\left(y, x_{j}\\right)=\\sum_{m=1}^{k} b_{m} \\cdot \\operatorname{cov}\\left(x_{m}, x_{j}\\right)\n",
        "$$"
      ],
      "metadata": {
        "id": "CVec_HA71Uok"
      }
    },
    {
      "cell_type": "markdown",
      "source": [
        "### Forma B: operaciones matriciales\n",
        "\n",
        "Podemos definir una regresión lineal múltiple como:\n",
        "\n",
        "$$\n",
        "\\mathrm{y}=\\mathrm{X} \\boldsymbol{\\beta}\n",
        "$$\n",
        "\n",
        "Donde:\n",
        "\n",
        "$$\n",
        "\\mathbf{X}=\\left[\\begin{array}{cccc}\n",
        "X_{10} & X_{11} & \\cdots & X_{1 (p-1)} \\\\\n",
        "X_{20} & X_{21} & \\cdots & X_{2 (p-1)} \\\\\n",
        "\\vdots & \\vdots & \\ddots & \\vdots \\\\\n",
        "X_{n 0} & X_{n 1} & \\cdots & X_{n (p-1)}\n",
        "\\end{array}\\right], \\quad \\boldsymbol{\\beta}=\\left[\\begin{array}{c}\n",
        "\\beta_{0} \\\\\n",
        "\\beta_{1} \\\\\n",
        "\\vdots \\\\\n",
        "\\beta_{p-1}\n",
        "\\end{array}\\right], \\quad \\mathbf{y}=\\left[\\begin{array}{c}\n",
        "y_{1} \\\\\n",
        "y_{2} \\\\\n",
        "\\vdots \\\\\n",
        "y_{n}\n",
        "\\end{array}\\right]\n",
        "$$\n",
        "\n",
        "(Notemos que para acomodarnos a esta definición, incluimos el alpha/$\\beta_0$ o intercepto dentro de nuestro vector $\\beta$, para que esto funcione, debemos agregarle una columna de 1s a la matrix $X$. En este caso, corresponden a todos los $X_{n0}$ )\n",
        "\n",
        "$\\bf{Teorema}$: podemos entonces encontrar los coeficientes $\\beta$ de la siguiente forma:\n",
        "\n",
        "$$\n",
        "\\hat{\\boldsymbol{\\beta}}=\\left(\\mathrm{X}^{\\top} \\mathrm{X}\\right)^{-1} \\mathrm{X}^{\\top} \\mathbf{y}\n",
        "$$\n"
      ],
      "metadata": {
        "id": "hi4Y9SgLqFFb"
      }
    },
    {
      "cell_type": "markdown",
      "source": [
        "Una vez ajustados estos coeficientes, tu método predict debe utilizarlos para calcular el valor de $y$ a partir de un vector de características $x$."
      ],
      "metadata": {
        "id": "EXj6Q6nMsQ9B"
      }
    },
    {
      "cell_type": "code",
      "source": [
        "class LinearRegression:\n",
        "  def __init__(self, X, y):\n",
        "    self.X = X\n",
        "    self.y = y\n",
        "    self.alpha = np.zeros(1)              # Completar esto \n",
        "    self.betas = np.zeros(len(X[0]))      # Completar esto\n",
        "\n",
        "  def fit(self):\n",
        "    X_t = np.transpose(self.X)\n",
        "    inverse = np.dot(X_t, self.X)\n",
        "    w = np.linalg.inv( inverse)\n",
        "    b = np.dot(X_t, self.y)\n",
        "    self.betas = np.dot(w, b)\n",
        "    pass\n",
        "\n",
        "  def predict(self, x):\n",
        "    return np.dot(x, self.betas)"
      ],
      "metadata": {
        "id": "cBfS1vXSssLl"
      },
      "execution_count": null,
      "outputs": []
    },
    {
      "cell_type": "markdown",
      "source": [
        "Hecho esto, prueba tu Regresión Lineal entrenándola con la matriz $X$ y el vector $y$ de entrenamiento que obtuviste anteriormente."
      ],
      "metadata": {
        "id": "4SYZmYRjwdq4"
      }
    },
    {
      "cell_type": "code",
      "source": [
        "lineal = LinearRegression(X_train, y_train)\n",
        "lineal.fit()"
      ],
      "metadata": {
        "id": "kPFn7ThQw65w"
      },
      "execution_count": null,
      "outputs": []
    },
    {
      "cell_type": "markdown",
      "source": [
        "Prueba predecir el valor del precio de algunas (al menos 5) filas de tu matriz $X$ de prueba (separada en 1.c). ¿Que tanto se parece al precio real? ¿A que se puede deber este resultado?"
      ],
      "metadata": {
        "id": "V4Cyk-Vew7Ks"
      }
    },
    {
      "cell_type": "code",
      "source": [
        "y_probando = lineal.predict(X_tested[:300])\n",
        "nice = []\n",
        "sum = 0\n",
        "for i in range(300):\n",
        "  sum += (2*(abs(y_tested[i]-y_probando[i])/(abs(y_tested[i])+abs(y_probando[i]))*1000)//1)/10\n",
        "print(\"error\", f\"{sum/300}%\")"
      ],
      "metadata": {
        "id": "z5c0kf8a6VAD",
        "colab": {
          "base_uri": "https://localhost:8080/"
        },
        "outputId": "a54cab41-af0c-4d5b-b340-c4d6a7664d52"
      },
      "execution_count": null,
      "outputs": [
        {
          "output_type": "stream",
          "name": "stdout",
          "text": [
            "error 30.830333333333336%\n"
          ]
        }
      ]
    },
    {
      "cell_type": "markdown",
      "source": [
        "Notamos que el error promedio relativo, es de un 30.83%, esto se puede deber a que la regresion lineal a pesar de tener varios coeficientes que ajustan sus betas, de igual manera no es tan buena prediciendo relaciones mas complejas, como puede ser esta que involucra 12 factores distinto."
      ],
      "metadata": {
        "id": "DqyJ14UL8SuU"
      }
    },
    {
      "cell_type": "markdown",
      "source": [
        "## Parte 3: Regresión Logística (2.5 ptos.)\n",
        "En esta parte, deberás hacer una implementación de una regresión logística que entrene sus coeficientes empleando descenso de gradiente. Antes que nada, y como se vio en clases, utilizamos regresiones logísticas para clasificar si un dato pertenece o no a una clase.\n",
        "\n",
        "Primero debes modificar el vector $y$ para que represente una clase binaria. En este caso definiremos que una case pertenece a:\n",
        "\n",
        "\n",
        "*   Clase 1 si es que su precio es mayor o igual a USD $1.000.000\n",
        "*   Clase 0 en cualquier otro caso.\n",
        "\n",
        "Este será el nuevo vector a predecir."
      ],
      "metadata": {
        "id": "N-l1r1fTirYm"
      }
    },
    {
      "cell_type": "code",
      "source": [
        "# Modifica el vector y según lo anterior. Recuerda modificar ambos vectores: el vector de entrenamiento y el de testeo.\n",
        "def vectors(wenlo):\n",
        "   if wenlo >= 1_000_000:\n",
        "     return 1\n",
        "   else:\n",
        "     return 0\n",
        "    \n",
        "train_dataset['price'] = train_dataset['price'].apply(vectors)\n",
        "test_dataset['price'] = test_dataset['price'].apply(vectors)"
      ],
      "metadata": {
        "id": "INuMrqxqgjl-"
      },
      "execution_count": null,
      "outputs": []
    },
    {
      "cell_type": "code",
      "source": [
        "y_train = train_dataset['price'].to_numpy()\n",
        "y_tested = test_dataset['price'].to_numpy()"
      ],
      "metadata": {
        "id": "CfCM4R1Qae_0"
      },
      "execution_count": null,
      "outputs": []
    },
    {
      "cell_type": "markdown",
      "source": [
        "/En el codigo de abajo hay una clase llamada `LogisticRegression` cuyo constructor recibe como parámetro el número de _features_ que espera recibir. Tienes que completar esta clase para que pueda entrenar y predecir. Lo que necesitas es:\n",
        "- Programar el método `train`, que vendría a ser equivalente al método `fit` de Scikit Learn. Tienes que utilizar el algoritmo _Gradient Descent_ visto en clases.\n",
        "- Programar el método `predict` que asume que tu modelo ya está entrenado.\n",
        "\n",
        "Para hacer esto puedes hacer los supuestos razonables que estimes conveniente. Además, si te acomoda trabajar sin clases puedes hacerlo, mientras uses el algoritmo de _Gradient Descent_.\n",
        "Recuerda además que el gradiente de la función objetivo para cada $\\beta_i$ es:\n",
        "\n",
        "$$ \\frac{\\delta}{\\delta \\beta_i}L(\\beta) = \\frac{lr}{m} \\sum_{1 \\leq j \\leq m} (\\sigma(\\beta^T x^j) - y_j) x_i^j $$\n",
        "\n",
        "Donde $L(\\beta)$ es la función de verosimilitud, $\\beta$ es el vector de coeficientes para la regresión, tenemos $m$ filas en nuestro _dataset_, $\\sigma(x)$ es la función $\\frac{1}{1 + e^{-x}}$, $x^j$ es la fila $j$ de nuestro dataset (y asociado tiene su respuesta $y_j$) y finalmente $x_i^j$ es la columna $i$ de la fila $j$ en nuestro _dataset_."
      ],
      "metadata": {
        "id": "1C4KuKOsztAL"
      }
    },
    {
      "cell_type": "code",
      "source": [
        "import numpy as np #Si lo importaste antes, esta linea no es necesaria.\n",
        "\n",
        "def sigmoid(x):    \n",
        "    output = 1 / (1 + np.exp(-x))\n",
        "    return output\n",
        "\n",
        "class LogisticRegression:\n",
        "    def __init__(self, number_of_features, learning_rate=0.00000001, number_of_iterations=100):\n",
        "        self.learning_rate = learning_rate\n",
        "        self.number_of_iterations = number_of_iterations\n",
        "        self.beta = np.zeros(number_of_features) # Completar aquí\n",
        "        \n",
        "    def train(self, X, y):\n",
        "\n",
        "        self.m, self.n = X.shape\n",
        "        self.X = X\n",
        "        self.y = y\n",
        "        for step in range(self.number_of_iterations):\n",
        "           \n",
        "          for i in range(self.n):\n",
        "            sum = 0\n",
        "\n",
        "            for j in range(self.m):\n",
        "              sigmoide = np.dot(np.transpose(self.beta), self.X[j])\n",
        "              w = sigmoid(sigmoide)- self.y[j]\n",
        "              sum += w*self.X[j][i]\n",
        "\n",
        "            self.beta[i] =self.beta[i] - ((self.learning_rate*sum)/self.m)\n",
        "\n",
        "\n",
        "\n",
        "    def predict(self, x):\n",
        "      y = np.zeros(len(x))\n",
        "      y_predict = []\n",
        "      for i in range(len(x)):\n",
        "        y = sigmoid(np.dot(np.transpose(self.beta),x[i]))\n",
        "        if y >= 0.5:\n",
        "          y_predict.append(1)\n",
        "        else:\n",
        "          y_predict.append(0)\n",
        "      return y_predict\n"
      ],
      "metadata": {
        "id": "aQp6k-r_iulU"
      },
      "execution_count": null,
      "outputs": []
    },
    {
      "cell_type": "markdown",
      "source": [
        "Hecho esto, prueba tu regresión logística entrenándola con la matriz $X$ y el nuevo vector binario $y$ de entrenamiento que obtuviste anteriormente."
      ],
      "metadata": {
        "id": "g5OyqcSF0B0T"
      }
    },
    {
      "cell_type": "code",
      "source": [
        "logistic = LogisticRegression(len(X_train[0]))\n",
        "logistic.train(X_train, y_train)"
      ],
      "metadata": {
        "id": "kMMnof5r0BLd"
      },
      "execution_count": null,
      "outputs": []
    },
    {
      "cell_type": "markdown",
      "source": [
        "Prueba predecir la categoría del precio de algunas (al menos 5) filas de tu matriz $X$ de prueba (separada en 1.c). ¿Es correcta la predicción? ¿A que se puede deber este resultado?"
      ],
      "metadata": {
        "id": "WqrYWhvi0Map"
      }
    },
    {
      "cell_type": "code",
      "source": [
        "y_predicted = logistic.predict(X_tested)\n",
        "deberian = 0\n",
        "fueron = 0\n",
        "for i in range(len(X_tested)):\n",
        "  if y_tested[i]:\n",
        "    deberian +=1\n",
        "    if y_tested[i] == y_predicted[i]:\n",
        "      fueron +=1\n",
        "  print(f\"{i+1})\",\"se supone:\",y_tested[i], \"vs\",\" predijido:\", y_predicted[i])\n",
        "\n",
        "print(deberian, fueron)"
      ],
      "metadata": {
        "id": "DgNx92GR61qt",
        "colab": {
          "base_uri": "https://localhost:8080/"
        },
        "outputId": "e45b13de-2358-4555-e32b-4b3dbeb8a0ef"
      },
      "execution_count": null,
      "outputs": [
        {
          "output_type": "stream",
          "name": "stdout",
          "text": [
            "1) se supone: 0 vs  predijido: 0\n",
            "2) se supone: 0 vs  predijido: 0\n",
            "3) se supone: 0 vs  predijido: 0\n",
            "4) se supone: 0 vs  predijido: 0\n",
            "5) se supone: 0 vs  predijido: 0\n",
            "6) se supone: 0 vs  predijido: 0\n",
            "7) se supone: 0 vs  predijido: 0\n",
            "8) se supone: 0 vs  predijido: 0\n",
            "9) se supone: 1 vs  predijido: 0\n",
            "10) se supone: 0 vs  predijido: 0\n",
            "11) se supone: 0 vs  predijido: 0\n",
            "12) se supone: 0 vs  predijido: 0\n",
            "13) se supone: 0 vs  predijido: 0\n",
            "14) se supone: 0 vs  predijido: 0\n",
            "15) se supone: 0 vs  predijido: 0\n",
            "16) se supone: 0 vs  predijido: 0\n",
            "17) se supone: 0 vs  predijido: 0\n",
            "18) se supone: 0 vs  predijido: 0\n",
            "19) se supone: 0 vs  predijido: 0\n",
            "20) se supone: 0 vs  predijido: 0\n",
            "21) se supone: 0 vs  predijido: 0\n",
            "22) se supone: 0 vs  predijido: 0\n",
            "23) se supone: 1 vs  predijido: 0\n",
            "24) se supone: 0 vs  predijido: 0\n",
            "25) se supone: 0 vs  predijido: 0\n",
            "26) se supone: 0 vs  predijido: 0\n",
            "27) se supone: 0 vs  predijido: 0\n",
            "28) se supone: 0 vs  predijido: 0\n",
            "29) se supone: 0 vs  predijido: 0\n",
            "30) se supone: 0 vs  predijido: 0\n",
            "31) se supone: 0 vs  predijido: 0\n",
            "32) se supone: 0 vs  predijido: 0\n",
            "33) se supone: 0 vs  predijido: 0\n",
            "34) se supone: 0 vs  predijido: 0\n",
            "35) se supone: 0 vs  predijido: 0\n",
            "36) se supone: 0 vs  predijido: 0\n",
            "37) se supone: 0 vs  predijido: 0\n",
            "38) se supone: 0 vs  predijido: 0\n",
            "39) se supone: 0 vs  predijido: 0\n",
            "40) se supone: 0 vs  predijido: 0\n",
            "41) se supone: 0 vs  predijido: 0\n",
            "42) se supone: 0 vs  predijido: 0\n",
            "43) se supone: 0 vs  predijido: 0\n",
            "44) se supone: 0 vs  predijido: 0\n",
            "45) se supone: 0 vs  predijido: 0\n",
            "46) se supone: 0 vs  predijido: 0\n",
            "47) se supone: 0 vs  predijido: 0\n",
            "48) se supone: 0 vs  predijido: 0\n",
            "49) se supone: 0 vs  predijido: 0\n",
            "50) se supone: 0 vs  predijido: 0\n",
            "51) se supone: 0 vs  predijido: 0\n",
            "52) se supone: 0 vs  predijido: 0\n",
            "53) se supone: 0 vs  predijido: 0\n",
            "54) se supone: 0 vs  predijido: 0\n",
            "55) se supone: 0 vs  predijido: 0\n",
            "56) se supone: 0 vs  predijido: 0\n",
            "57) se supone: 0 vs  predijido: 0\n",
            "58) se supone: 0 vs  predijido: 0\n",
            "59) se supone: 0 vs  predijido: 0\n",
            "60) se supone: 0 vs  predijido: 0\n",
            "61) se supone: 0 vs  predijido: 0\n",
            "62) se supone: 0 vs  predijido: 0\n",
            "63) se supone: 0 vs  predijido: 0\n",
            "64) se supone: 0 vs  predijido: 0\n",
            "65) se supone: 0 vs  predijido: 0\n",
            "66) se supone: 0 vs  predijido: 0\n",
            "67) se supone: 0 vs  predijido: 0\n",
            "68) se supone: 0 vs  predijido: 0\n",
            "69) se supone: 0 vs  predijido: 0\n",
            "70) se supone: 0 vs  predijido: 0\n",
            "71) se supone: 0 vs  predijido: 0\n",
            "72) se supone: 0 vs  predijido: 0\n",
            "73) se supone: 0 vs  predijido: 0\n",
            "74) se supone: 0 vs  predijido: 0\n",
            "75) se supone: 0 vs  predijido: 0\n",
            "76) se supone: 0 vs  predijido: 0\n",
            "77) se supone: 0 vs  predijido: 0\n",
            "78) se supone: 0 vs  predijido: 0\n",
            "79) se supone: 1 vs  predijido: 0\n",
            "80) se supone: 0 vs  predijido: 0\n",
            "81) se supone: 0 vs  predijido: 0\n",
            "82) se supone: 0 vs  predijido: 0\n",
            "83) se supone: 0 vs  predijido: 0\n",
            "84) se supone: 0 vs  predijido: 0\n",
            "85) se supone: 0 vs  predijido: 0\n",
            "86) se supone: 0 vs  predijido: 0\n",
            "87) se supone: 0 vs  predijido: 0\n",
            "88) se supone: 0 vs  predijido: 0\n",
            "89) se supone: 0 vs  predijido: 0\n",
            "90) se supone: 0 vs  predijido: 0\n",
            "91) se supone: 0 vs  predijido: 0\n",
            "92) se supone: 0 vs  predijido: 0\n",
            "93) se supone: 0 vs  predijido: 0\n",
            "94) se supone: 1 vs  predijido: 0\n",
            "95) se supone: 0 vs  predijido: 0\n",
            "96) se supone: 0 vs  predijido: 0\n",
            "97) se supone: 0 vs  predijido: 0\n",
            "98) se supone: 1 vs  predijido: 0\n",
            "99) se supone: 0 vs  predijido: 0\n",
            "100) se supone: 0 vs  predijido: 0\n",
            "101) se supone: 0 vs  predijido: 0\n",
            "102) se supone: 0 vs  predijido: 0\n",
            "103) se supone: 0 vs  predijido: 0\n",
            "104) se supone: 0 vs  predijido: 0\n",
            "105) se supone: 0 vs  predijido: 0\n",
            "106) se supone: 0 vs  predijido: 0\n",
            "107) se supone: 0 vs  predijido: 0\n",
            "108) se supone: 0 vs  predijido: 0\n",
            "109) se supone: 0 vs  predijido: 0\n",
            "110) se supone: 0 vs  predijido: 0\n",
            "111) se supone: 0 vs  predijido: 0\n",
            "112) se supone: 0 vs  predijido: 0\n",
            "113) se supone: 1 vs  predijido: 0\n",
            "114) se supone: 0 vs  predijido: 0\n",
            "115) se supone: 0 vs  predijido: 0\n",
            "116) se supone: 0 vs  predijido: 0\n",
            "117) se supone: 0 vs  predijido: 0\n",
            "118) se supone: 0 vs  predijido: 0\n",
            "119) se supone: 0 vs  predijido: 0\n",
            "120) se supone: 0 vs  predijido: 0\n",
            "121) se supone: 0 vs  predijido: 0\n",
            "122) se supone: 0 vs  predijido: 0\n",
            "123) se supone: 0 vs  predijido: 0\n",
            "124) se supone: 0 vs  predijido: 0\n",
            "125) se supone: 0 vs  predijido: 0\n",
            "126) se supone: 0 vs  predijido: 0\n",
            "127) se supone: 0 vs  predijido: 0\n",
            "128) se supone: 0 vs  predijido: 0\n",
            "129) se supone: 0 vs  predijido: 0\n",
            "130) se supone: 0 vs  predijido: 0\n",
            "131) se supone: 0 vs  predijido: 0\n",
            "132) se supone: 0 vs  predijido: 0\n",
            "133) se supone: 0 vs  predijido: 0\n",
            "134) se supone: 0 vs  predijido: 0\n",
            "135) se supone: 0 vs  predijido: 0\n",
            "136) se supone: 0 vs  predijido: 0\n",
            "137) se supone: 0 vs  predijido: 0\n",
            "138) se supone: 0 vs  predijido: 0\n",
            "139) se supone: 0 vs  predijido: 0\n",
            "140) se supone: 0 vs  predijido: 0\n",
            "141) se supone: 0 vs  predijido: 0\n",
            "142) se supone: 0 vs  predijido: 0\n",
            "143) se supone: 0 vs  predijido: 0\n",
            "144) se supone: 0 vs  predijido: 0\n",
            "145) se supone: 0 vs  predijido: 0\n",
            "146) se supone: 0 vs  predijido: 0\n",
            "147) se supone: 0 vs  predijido: 0\n",
            "148) se supone: 0 vs  predijido: 0\n",
            "149) se supone: 0 vs  predijido: 0\n",
            "150) se supone: 0 vs  predijido: 0\n",
            "151) se supone: 0 vs  predijido: 0\n",
            "152) se supone: 0 vs  predijido: 0\n",
            "153) se supone: 0 vs  predijido: 0\n",
            "154) se supone: 0 vs  predijido: 0\n",
            "155) se supone: 0 vs  predijido: 0\n",
            "156) se supone: 1 vs  predijido: 0\n",
            "157) se supone: 0 vs  predijido: 0\n",
            "158) se supone: 0 vs  predijido: 0\n",
            "159) se supone: 0 vs  predijido: 0\n",
            "160) se supone: 0 vs  predijido: 0\n",
            "161) se supone: 0 vs  predijido: 0\n",
            "162) se supone: 0 vs  predijido: 0\n",
            "163) se supone: 0 vs  predijido: 0\n",
            "164) se supone: 0 vs  predijido: 0\n",
            "165) se supone: 0 vs  predijido: 0\n",
            "166) se supone: 0 vs  predijido: 0\n",
            "167) se supone: 0 vs  predijido: 0\n",
            "168) se supone: 0 vs  predijido: 0\n",
            "169) se supone: 0 vs  predijido: 0\n",
            "170) se supone: 0 vs  predijido: 0\n",
            "171) se supone: 0 vs  predijido: 0\n",
            "172) se supone: 0 vs  predijido: 0\n",
            "173) se supone: 0 vs  predijido: 0\n",
            "174) se supone: 0 vs  predijido: 0\n",
            "175) se supone: 0 vs  predijido: 0\n",
            "176) se supone: 0 vs  predijido: 0\n",
            "177) se supone: 0 vs  predijido: 0\n",
            "178) se supone: 1 vs  predijido: 0\n",
            "179) se supone: 1 vs  predijido: 0\n",
            "180) se supone: 1 vs  predijido: 0\n",
            "181) se supone: 0 vs  predijido: 0\n",
            "182) se supone: 1 vs  predijido: 0\n",
            "183) se supone: 0 vs  predijido: 0\n",
            "184) se supone: 0 vs  predijido: 0\n",
            "185) se supone: 0 vs  predijido: 0\n",
            "186) se supone: 1 vs  predijido: 0\n",
            "187) se supone: 0 vs  predijido: 0\n",
            "188) se supone: 0 vs  predijido: 0\n",
            "189) se supone: 0 vs  predijido: 0\n",
            "190) se supone: 0 vs  predijido: 0\n",
            "191) se supone: 0 vs  predijido: 0\n",
            "192) se supone: 0 vs  predijido: 0\n",
            "193) se supone: 1 vs  predijido: 0\n",
            "194) se supone: 0 vs  predijido: 0\n",
            "195) se supone: 0 vs  predijido: 0\n",
            "196) se supone: 0 vs  predijido: 0\n",
            "197) se supone: 0 vs  predijido: 0\n",
            "198) se supone: 0 vs  predijido: 0\n",
            "199) se supone: 0 vs  predijido: 0\n",
            "200) se supone: 0 vs  predijido: 0\n",
            "201) se supone: 0 vs  predijido: 0\n",
            "202) se supone: 0 vs  predijido: 0\n",
            "203) se supone: 0 vs  predijido: 0\n",
            "204) se supone: 0 vs  predijido: 0\n",
            "205) se supone: 0 vs  predijido: 0\n",
            "206) se supone: 0 vs  predijido: 0\n",
            "207) se supone: 0 vs  predijido: 0\n",
            "208) se supone: 0 vs  predijido: 0\n",
            "209) se supone: 0 vs  predijido: 0\n",
            "210) se supone: 0 vs  predijido: 0\n",
            "211) se supone: 1 vs  predijido: 0\n",
            "212) se supone: 0 vs  predijido: 0\n",
            "213) se supone: 0 vs  predijido: 0\n",
            "214) se supone: 0 vs  predijido: 0\n",
            "215) se supone: 0 vs  predijido: 0\n",
            "216) se supone: 0 vs  predijido: 0\n",
            "217) se supone: 0 vs  predijido: 0\n",
            "218) se supone: 1 vs  predijido: 0\n",
            "219) se supone: 0 vs  predijido: 0\n",
            "220) se supone: 0 vs  predijido: 0\n",
            "221) se supone: 0 vs  predijido: 0\n",
            "222) se supone: 0 vs  predijido: 0\n",
            "223) se supone: 0 vs  predijido: 0\n",
            "224) se supone: 1 vs  predijido: 0\n",
            "225) se supone: 0 vs  predijido: 0\n",
            "226) se supone: 0 vs  predijido: 0\n",
            "227) se supone: 0 vs  predijido: 0\n",
            "228) se supone: 0 vs  predijido: 0\n",
            "229) se supone: 0 vs  predijido: 0\n",
            "230) se supone: 0 vs  predijido: 0\n",
            "231) se supone: 0 vs  predijido: 0\n",
            "232) se supone: 0 vs  predijido: 0\n",
            "233) se supone: 0 vs  predijido: 0\n",
            "234) se supone: 0 vs  predijido: 0\n",
            "235) se supone: 0 vs  predijido: 0\n",
            "236) se supone: 0 vs  predijido: 0\n",
            "237) se supone: 0 vs  predijido: 0\n",
            "238) se supone: 0 vs  predijido: 0\n",
            "239) se supone: 0 vs  predijido: 0\n",
            "240) se supone: 0 vs  predijido: 0\n",
            "241) se supone: 0 vs  predijido: 0\n",
            "242) se supone: 0 vs  predijido: 0\n",
            "243) se supone: 0 vs  predijido: 0\n",
            "244) se supone: 0 vs  predijido: 0\n",
            "245) se supone: 1 vs  predijido: 0\n",
            "246) se supone: 0 vs  predijido: 0\n",
            "247) se supone: 1 vs  predijido: 0\n",
            "248) se supone: 0 vs  predijido: 0\n",
            "249) se supone: 0 vs  predijido: 0\n",
            "250) se supone: 0 vs  predijido: 0\n",
            "251) se supone: 0 vs  predijido: 0\n",
            "252) se supone: 0 vs  predijido: 0\n",
            "253) se supone: 0 vs  predijido: 0\n",
            "254) se supone: 0 vs  predijido: 0\n",
            "255) se supone: 0 vs  predijido: 0\n",
            "256) se supone: 0 vs  predijido: 0\n",
            "257) se supone: 0 vs  predijido: 0\n",
            "258) se supone: 0 vs  predijido: 0\n",
            "259) se supone: 0 vs  predijido: 0\n",
            "260) se supone: 1 vs  predijido: 0\n",
            "261) se supone: 0 vs  predijido: 0\n",
            "262) se supone: 0 vs  predijido: 0\n",
            "263) se supone: 0 vs  predijido: 0\n",
            "264) se supone: 0 vs  predijido: 0\n",
            "265) se supone: 0 vs  predijido: 0\n",
            "266) se supone: 0 vs  predijido: 0\n",
            "267) se supone: 0 vs  predijido: 0\n",
            "268) se supone: 0 vs  predijido: 0\n",
            "269) se supone: 0 vs  predijido: 0\n",
            "270) se supone: 0 vs  predijido: 0\n",
            "271) se supone: 0 vs  predijido: 0\n",
            "272) se supone: 0 vs  predijido: 0\n",
            "273) se supone: 0 vs  predijido: 0\n",
            "274) se supone: 0 vs  predijido: 0\n",
            "275) se supone: 0 vs  predijido: 0\n",
            "276) se supone: 0 vs  predijido: 0\n",
            "277) se supone: 0 vs  predijido: 0\n",
            "278) se supone: 0 vs  predijido: 0\n",
            "279) se supone: 0 vs  predijido: 0\n",
            "280) se supone: 0 vs  predijido: 0\n",
            "281) se supone: 0 vs  predijido: 0\n",
            "282) se supone: 0 vs  predijido: 0\n",
            "283) se supone: 0 vs  predijido: 0\n",
            "284) se supone: 0 vs  predijido: 0\n",
            "285) se supone: 0 vs  predijido: 0\n",
            "286) se supone: 0 vs  predijido: 0\n",
            "287) se supone: 1 vs  predijido: 0\n",
            "288) se supone: 0 vs  predijido: 0\n",
            "289) se supone: 0 vs  predijido: 0\n",
            "290) se supone: 0 vs  predijido: 0\n",
            "291) se supone: 0 vs  predijido: 0\n",
            "292) se supone: 0 vs  predijido: 0\n",
            "293) se supone: 0 vs  predijido: 0\n",
            "294) se supone: 0 vs  predijido: 0\n",
            "295) se supone: 0 vs  predijido: 0\n",
            "296) se supone: 0 vs  predijido: 0\n",
            "297) se supone: 0 vs  predijido: 0\n",
            "298) se supone: 0 vs  predijido: 0\n",
            "299) se supone: 0 vs  predijido: 0\n",
            "300) se supone: 0 vs  predijido: 0\n",
            "301) se supone: 0 vs  predijido: 0\n",
            "302) se supone: 0 vs  predijido: 0\n",
            "303) se supone: 0 vs  predijido: 0\n",
            "304) se supone: 0 vs  predijido: 0\n",
            "305) se supone: 0 vs  predijido: 0\n",
            "306) se supone: 1 vs  predijido: 0\n",
            "307) se supone: 0 vs  predijido: 0\n",
            "308) se supone: 0 vs  predijido: 0\n",
            "309) se supone: 0 vs  predijido: 0\n",
            "310) se supone: 0 vs  predijido: 0\n",
            "311) se supone: 0 vs  predijido: 0\n",
            "312) se supone: 0 vs  predijido: 0\n",
            "313) se supone: 0 vs  predijido: 0\n",
            "314) se supone: 0 vs  predijido: 0\n",
            "315) se supone: 0 vs  predijido: 0\n",
            "316) se supone: 0 vs  predijido: 0\n",
            "317) se supone: 0 vs  predijido: 0\n",
            "318) se supone: 0 vs  predijido: 0\n",
            "319) se supone: 0 vs  predijido: 0\n",
            "320) se supone: 0 vs  predijido: 0\n",
            "321) se supone: 0 vs  predijido: 0\n",
            "322) se supone: 0 vs  predijido: 0\n",
            "323) se supone: 0 vs  predijido: 0\n",
            "324) se supone: 0 vs  predijido: 0\n",
            "325) se supone: 0 vs  predijido: 0\n",
            "326) se supone: 0 vs  predijido: 0\n",
            "327) se supone: 0 vs  predijido: 0\n",
            "328) se supone: 0 vs  predijido: 0\n",
            "329) se supone: 0 vs  predijido: 0\n",
            "330) se supone: 0 vs  predijido: 0\n",
            "331) se supone: 0 vs  predijido: 0\n",
            "332) se supone: 0 vs  predijido: 0\n",
            "333) se supone: 0 vs  predijido: 0\n",
            "334) se supone: 0 vs  predijido: 0\n",
            "335) se supone: 0 vs  predijido: 0\n",
            "336) se supone: 0 vs  predijido: 0\n",
            "337) se supone: 0 vs  predijido: 0\n",
            "338) se supone: 0 vs  predijido: 0\n",
            "339) se supone: 0 vs  predijido: 0\n",
            "340) se supone: 0 vs  predijido: 0\n",
            "341) se supone: 0 vs  predijido: 0\n",
            "342) se supone: 0 vs  predijido: 0\n",
            "343) se supone: 0 vs  predijido: 0\n",
            "344) se supone: 0 vs  predijido: 0\n",
            "345) se supone: 0 vs  predijido: 0\n",
            "346) se supone: 0 vs  predijido: 0\n",
            "347) se supone: 0 vs  predijido: 0\n",
            "348) se supone: 0 vs  predijido: 0\n",
            "349) se supone: 0 vs  predijido: 0\n",
            "350) se supone: 0 vs  predijido: 0\n",
            "351) se supone: 1 vs  predijido: 0\n",
            "352) se supone: 0 vs  predijido: 0\n",
            "353) se supone: 0 vs  predijido: 0\n",
            "354) se supone: 1 vs  predijido: 0\n",
            "355) se supone: 0 vs  predijido: 0\n",
            "356) se supone: 0 vs  predijido: 0\n",
            "357) se supone: 0 vs  predijido: 0\n",
            "358) se supone: 0 vs  predijido: 0\n",
            "359) se supone: 0 vs  predijido: 0\n",
            "360) se supone: 0 vs  predijido: 0\n",
            "361) se supone: 0 vs  predijido: 0\n",
            "362) se supone: 0 vs  predijido: 0\n",
            "363) se supone: 0 vs  predijido: 0\n",
            "364) se supone: 0 vs  predijido: 0\n",
            "365) se supone: 0 vs  predijido: 0\n",
            "366) se supone: 0 vs  predijido: 0\n",
            "367) se supone: 0 vs  predijido: 0\n",
            "368) se supone: 0 vs  predijido: 0\n",
            "369) se supone: 0 vs  predijido: 0\n",
            "370) se supone: 0 vs  predijido: 0\n",
            "371) se supone: 0 vs  predijido: 0\n",
            "372) se supone: 1 vs  predijido: 0\n",
            "373) se supone: 0 vs  predijido: 0\n",
            "374) se supone: 0 vs  predijido: 0\n",
            "375) se supone: 0 vs  predijido: 0\n",
            "376) se supone: 0 vs  predijido: 0\n",
            "377) se supone: 0 vs  predijido: 0\n",
            "378) se supone: 0 vs  predijido: 0\n",
            "379) se supone: 1 vs  predijido: 0\n",
            "380) se supone: 0 vs  predijido: 0\n",
            "381) se supone: 0 vs  predijido: 0\n",
            "382) se supone: 0 vs  predijido: 0\n",
            "383) se supone: 0 vs  predijido: 0\n",
            "384) se supone: 0 vs  predijido: 0\n",
            "385) se supone: 0 vs  predijido: 0\n",
            "386) se supone: 0 vs  predijido: 0\n",
            "387) se supone: 1 vs  predijido: 0\n",
            "388) se supone: 0 vs  predijido: 0\n",
            "389) se supone: 0 vs  predijido: 0\n",
            "390) se supone: 0 vs  predijido: 0\n",
            "391) se supone: 0 vs  predijido: 0\n",
            "392) se supone: 0 vs  predijido: 0\n",
            "393) se supone: 0 vs  predijido: 0\n",
            "394) se supone: 0 vs  predijido: 0\n",
            "395) se supone: 0 vs  predijido: 0\n",
            "396) se supone: 0 vs  predijido: 0\n",
            "397) se supone: 0 vs  predijido: 0\n",
            "398) se supone: 0 vs  predijido: 0\n",
            "399) se supone: 0 vs  predijido: 0\n",
            "400) se supone: 0 vs  predijido: 0\n",
            "401) se supone: 0 vs  predijido: 0\n",
            "402) se supone: 0 vs  predijido: 0\n",
            "403) se supone: 0 vs  predijido: 0\n",
            "404) se supone: 0 vs  predijido: 0\n",
            "405) se supone: 0 vs  predijido: 0\n",
            "406) se supone: 0 vs  predijido: 0\n",
            "407) se supone: 0 vs  predijido: 0\n",
            "408) se supone: 0 vs  predijido: 0\n",
            "409) se supone: 0 vs  predijido: 0\n",
            "410) se supone: 0 vs  predijido: 0\n",
            "411) se supone: 0 vs  predijido: 0\n",
            "412) se supone: 0 vs  predijido: 0\n",
            "413) se supone: 0 vs  predijido: 0\n",
            "414) se supone: 0 vs  predijido: 0\n",
            "415) se supone: 0 vs  predijido: 0\n",
            "416) se supone: 0 vs  predijido: 0\n",
            "417) se supone: 0 vs  predijido: 0\n",
            "418) se supone: 0 vs  predijido: 0\n",
            "419) se supone: 1 vs  predijido: 0\n",
            "420) se supone: 0 vs  predijido: 0\n",
            "421) se supone: 1 vs  predijido: 0\n",
            "422) se supone: 0 vs  predijido: 0\n",
            "423) se supone: 0 vs  predijido: 0\n",
            "424) se supone: 0 vs  predijido: 0\n",
            "425) se supone: 0 vs  predijido: 0\n",
            "426) se supone: 0 vs  predijido: 0\n",
            "427) se supone: 0 vs  predijido: 0\n",
            "428) se supone: 0 vs  predijido: 0\n",
            "429) se supone: 0 vs  predijido: 0\n",
            "430) se supone: 0 vs  predijido: 0\n",
            "431) se supone: 0 vs  predijido: 0\n",
            "432) se supone: 0 vs  predijido: 0\n",
            "433) se supone: 0 vs  predijido: 0\n",
            "434) se supone: 0 vs  predijido: 0\n",
            "435) se supone: 0 vs  predijido: 0\n",
            "436) se supone: 0 vs  predijido: 0\n",
            "437) se supone: 0 vs  predijido: 0\n",
            "438) se supone: 0 vs  predijido: 0\n",
            "439) se supone: 0 vs  predijido: 0\n",
            "440) se supone: 0 vs  predijido: 0\n",
            "441) se supone: 0 vs  predijido: 0\n",
            "442) se supone: 0 vs  predijido: 0\n",
            "443) se supone: 0 vs  predijido: 0\n",
            "444) se supone: 0 vs  predijido: 0\n",
            "445) se supone: 1 vs  predijido: 0\n",
            "446) se supone: 0 vs  predijido: 0\n",
            "447) se supone: 1 vs  predijido: 0\n",
            "448) se supone: 0 vs  predijido: 0\n",
            "449) se supone: 0 vs  predijido: 0\n",
            "450) se supone: 0 vs  predijido: 0\n",
            "451) se supone: 0 vs  predijido: 0\n",
            "452) se supone: 0 vs  predijido: 0\n",
            "453) se supone: 1 vs  predijido: 0\n",
            "454) se supone: 0 vs  predijido: 0\n",
            "455) se supone: 0 vs  predijido: 0\n",
            "456) se supone: 0 vs  predijido: 0\n",
            "457) se supone: 0 vs  predijido: 0\n",
            "458) se supone: 0 vs  predijido: 0\n",
            "459) se supone: 0 vs  predijido: 0\n",
            "460) se supone: 0 vs  predijido: 0\n",
            "31 0\n"
          ]
        }
      ]
    },
    {
      "cell_type": "markdown",
      "source": [
        "Los datos predecidos, son totalmente incorrectos, de hecho en 30 posibles casos que se deberia predecir la cateogira 1, se hizo 0. Esto se puede deber primero a que como es una regresion logistica, depende tambien de las probabilidades que los betas, como vemos que tenemos pocos casos de price = 1, esto genera problemas en calcular los betas. Otro problema que se genera, es que las variables independientes con las dependientes se relacional linealmente, pero esto genera un problema."
      ],
      "metadata": {
        "id": "2Fw5JEBOCVes"
      }
    },
    {
      "cell_type": "markdown",
      "source": [
        "## Parte 4 (BONUS): Meme (1-2 décimas)"
      ],
      "metadata": {
        "id": "i1cFMUtih7Bk"
      }
    },
    {
      "cell_type": "markdown",
      "source": [
        "Haga un meme. Si es bueno, décimas extra. SÓLO MEMES RELACIONADOS AL CURSO PORFAVOR."
      ],
      "metadata": {
        "id": "525EvYD9h94u"
      }
    },
    {
      "cell_type": "markdown",
      "source": [
        "![0_1kc7PjJmRSo61vl5.jpeg](data:image/jpeg;base64,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)"
      ],
      "metadata": {
        "id": "NpBuE9PVPxTv"
      }
    }
  ]
}