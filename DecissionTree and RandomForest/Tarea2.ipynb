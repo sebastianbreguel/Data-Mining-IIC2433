{
  "cells": [
    {
      "cell_type": "markdown",
      "metadata": {
        "id": "VK0aZCFHaCOT"
      },
      "source": [
        "Pontificia Universidad Católica de Chile <br>\n",
        "Departamento de Ciencia de la Computación <br>\n",
        "IIC2433 - Minería de Datos\n",
        "<br>\n",
        "\n",
        "<center>\n",
        "    <h2> Tarea 2 </h2>\n",
        "    <h1> Pingüinos de Madagascar y los pingüinos perdidos </h1>\n",
        "    <p>\n",
        "        Profesor Vicente Domínguez<br>\n",
        "        Primer semestre 2022    \n",
        "    </p>\n",
        "    <br>\n",
        "    <img src=\"https://camo.githubusercontent.com/1d187452ac3929cfde8f5760b79f37cc117c1a332227d37a8c50db50d3db632a/68747470733a2f2f616c6c69736f6e686f7273742e6769746875622e696f2f70616c6d657270656e6775696e732f7265666572656e63652f666967757265732f6c7465725f70656e6775696e732e706e67\" width=\"600\"/>\n",
        "</center>\n",
        "\n",
        "<br>\n",
        "\n",
        "---"
      ]
    },
    {
      "cell_type": "markdown",
      "metadata": {
        "id": "FTLJi2cbZ5hi"
      },
      "source": [
        "# Indicaciones"
      ]
    },
    {
      "cell_type": "markdown",
      "metadata": {
        "id": "owh6DlfKZ7Y4"
      },
      "source": [
        "Deberás entregar SOLO el archivo .ipynb en el buzón respectivo en canvas. \n",
        "\n",
        "**IMPORTANTE**: \n",
        "- Se te dará puntaje tanto por código como por la manera en la que respondas las preguntas planteadas. Es decir, si tienes un código perfecto pero este no es explicado o no se responden preguntas asociadas a este, no se tendrá el puntaje completo.\n",
        "- El notebook debe tener todas las celdas de código ejecutadas. Cualquier notebook que no las tenga no podrá ser corregido.\n",
        "- El carácter de esta tarea es **INDIVIDUAL**. Cualquier instancia de copia resultará en un 1,1 como nota de curso.\n"
      ]
    },
    {
      "cell_type": "markdown",
      "metadata": {
        "id": "z65VC-m9aBZX"
      },
      "source": [
        "## Librerías"
      ]
    },
    {
      "cell_type": "markdown",
      "metadata": {
        "id": "v7fylgfOaDse"
      },
      "source": [
        "Librerías aceptadas:\n",
        "- `Numpy`\n",
        "- `Pandas`\n",
        "- `Matplotlib`\n",
        "- `Seaborn`\n",
        "\n",
        "Clases y funciones aceptadas de la librería `sklearn`:\n",
        "- `DecisionTreeClassifier` y `plot_tree` del módulo `tree`\n",
        "- `train_test_split` del módulo `model_selection`\n",
        "- Funciones de los módulos `metrics` y `preprocessing`\n",
        "\n",
        "Librerías y funciones prohibidas:\n",
        "- Cualquier otra función de `sklearn`\n",
        "- *Cualquier otra librería que maneje y prediga datos* \n",
        "\n",
        "<br>\n",
        "\n",
        "---"
      ]
    },
    {
      "cell_type": "markdown",
      "metadata": {
        "id": "SugK90ojjLCl"
      },
      "source": [
        "# Introducción\n",
        "\n",
        "Tu gran amigo Skipper y su equipo se encuentran en una misión super secreta para salvar a los pingüinos del malvado Dr. Espiráculo y su secuaz el Basado Vochi Doménguiz. Una vez que hayan terminado deberán reubicar los pingüinos con sus respectivas familias, es por esto que te pide a ti _-oh gran conocedor de los árboles de decisión y los ensambles-_ que implementes un programa que permita clasificar pingüinos para así reubicar a estos plumíferos en base a sus características.\n",
        "\n",
        "<br>\n",
        "<center>\n",
        "<img src=\"https://misanimales.com/wp-content/uploads/2020/03/pinguinos-madagascar-768x549.jpg?auto=webp&quality=45&width=1920&crop=16:9,smart,safe\" width=\"400\"/>"
      ]
    },
    {
      "cell_type": "markdown",
      "metadata": {
        "id": "FquVE44FLdrS"
      },
      "source": [
        "## Descripción dataset"
      ]
    },
    {
      "cell_type": "markdown",
      "metadata": {
        "id": "qUJMWt-dLjZ4"
      },
      "source": [
        "Para esta tarea utilizarás un dataset compuesto de información sobre pingüinos del archipiélago de Palmer. Estos datos fueron obtenidos a partir de [Kaggle](https://www.kaggle.com/datasets/parulpandey/palmer-archipelago-antarctica-penguin-data?select=penguins_lter.csv) y después de ser preprocesados quedó la siguiente información:\n",
        "- `species`: indica la especie a la que pertenece el pingüino. Este puede tomar 3 valores: Adelie Penguin (_Pygoscelis adeliae_), Chinstrap penguin (_Pygoscelis antarctica_), o Gentoo penguin (_Pygoscelis papua_).\n",
        "- `culmen_length_mm`: longitud en milímetros del pico.\n",
        "- `culmen_depth_mm`: profundidad en milímetros del pico.\n",
        "- `flipper_length_mm`: longitud en milímetros de las aletas.\n",
        "- `body_mass_g`: masa corporal en gramos.\n",
        "- `island`: nombre de la isla donde se ubica. Este puede tomar 3 valores:  Dream, Torgersen, o Biscoe.\n",
        "- `sex`: sexo del pingüino. Este puede tomar dos valores: _female_ o _male_. \n",
        " \n",
        "El dataset fue dividido en un set de entrenamiento y de testeo (_training_ and _testing_ sets), los cuales deberás utilizar de forma correcta a lo largo de toda tu tarea. "
      ]
    },
    {
      "cell_type": "markdown",
      "metadata": {
        "id": "edoga-du1UVG"
      },
      "source": [
        "# Parte 1: Preprocesamiento de los datos (0.5 ptos.)"
      ]
    },
    {
      "cell_type": "markdown",
      "metadata": {
        "id": "MDxpPU961cH7"
      },
      "source": [
        "A continuación, realiza el preprocesamiento de los datos y justifica las decisiones tomadas en el proceso."
      ]
    },
    {
      "cell_type": "code",
      "source": [
        "import pandas as pd\n",
        "import numpy as np\n",
        "from sklearn import preprocessing\n",
        "from sklearn.tree import DecisionTreeClassifier, plot_tree\n",
        "from sklearn.metrics import accuracy_score, classification_report ,confusion_matrix\n",
        "import random\n",
        "from sklearn.model_selection import train_test_split"
      ],
      "metadata": {
        "id": "VdbgxXvRRf74"
      },
      "execution_count": 246,
      "outputs": []
    },
    {
      "cell_type": "code",
      "execution_count": 247,
      "metadata": {
        "id": "PCOQ0U-P1XLz",
        "colab": {
          "base_uri": "https://localhost:8080/",
          "height": 424
        },
        "outputId": "346594df-de07-4edb-ad96-2ba3a32b081b"
      },
      "outputs": [
        {
          "output_type": "execute_result",
          "data": {
            "text/plain": [
              "     culmen_length_mm  culmen_depth_mm  flipper_length_mm  body_mass_g  \\\n",
              "0                46.9             14.6              222.0       4875.0   \n",
              "1                49.8             17.3              198.0       3675.0   \n",
              "2                46.6             17.8              193.0       3800.0   \n",
              "3                53.4             15.8              219.0       5500.0   \n",
              "4                46.7             17.9              195.0       3300.0   \n",
              "..                ...              ...                ...          ...   \n",
              "229              51.3             14.2              218.0       5300.0   \n",
              "230              48.2             15.6              221.0       5100.0   \n",
              "231              40.7             17.0              190.0       3725.0   \n",
              "232              46.8             16.1              215.0       5500.0   \n",
              "233              45.2             15.8              215.0       5300.0   \n",
              "\n",
              "        sex     island  \n",
              "0    Female  Torgersen  \n",
              "1    Female     Biscoe  \n",
              "2    Female     Biscoe  \n",
              "3      Male  Torgersen  \n",
              "4    Female     Biscoe  \n",
              "..      ...        ...  \n",
              "229    Male  Torgersen  \n",
              "230    Male  Torgersen  \n",
              "231    Male     Biscoe  \n",
              "232    Male  Torgersen  \n",
              "233    Male  Torgersen  \n",
              "\n",
              "[234 rows x 6 columns]"
            ],
            "text/html": [
              "\n",
              "  <div id=\"df-27a6de2e-a93d-4c49-8b3b-99058fda3df9\">\n",
              "    <div class=\"colab-df-container\">\n",
              "      <div>\n",
              "<style scoped>\n",
              "    .dataframe tbody tr th:only-of-type {\n",
              "        vertical-align: middle;\n",
              "    }\n",
              "\n",
              "    .dataframe tbody tr th {\n",
              "        vertical-align: top;\n",
              "    }\n",
              "\n",
              "    .dataframe thead th {\n",
              "        text-align: right;\n",
              "    }\n",
              "</style>\n",
              "<table border=\"1\" class=\"dataframe\">\n",
              "  <thead>\n",
              "    <tr style=\"text-align: right;\">\n",
              "      <th></th>\n",
              "      <th>culmen_length_mm</th>\n",
              "      <th>culmen_depth_mm</th>\n",
              "      <th>flipper_length_mm</th>\n",
              "      <th>body_mass_g</th>\n",
              "      <th>sex</th>\n",
              "      <th>island</th>\n",
              "    </tr>\n",
              "  </thead>\n",
              "  <tbody>\n",
              "    <tr>\n",
              "      <th>0</th>\n",
              "      <td>46.9</td>\n",
              "      <td>14.6</td>\n",
              "      <td>222.0</td>\n",
              "      <td>4875.0</td>\n",
              "      <td>Female</td>\n",
              "      <td>Torgersen</td>\n",
              "    </tr>\n",
              "    <tr>\n",
              "      <th>1</th>\n",
              "      <td>49.8</td>\n",
              "      <td>17.3</td>\n",
              "      <td>198.0</td>\n",
              "      <td>3675.0</td>\n",
              "      <td>Female</td>\n",
              "      <td>Biscoe</td>\n",
              "    </tr>\n",
              "    <tr>\n",
              "      <th>2</th>\n",
              "      <td>46.6</td>\n",
              "      <td>17.8</td>\n",
              "      <td>193.0</td>\n",
              "      <td>3800.0</td>\n",
              "      <td>Female</td>\n",
              "      <td>Biscoe</td>\n",
              "    </tr>\n",
              "    <tr>\n",
              "      <th>3</th>\n",
              "      <td>53.4</td>\n",
              "      <td>15.8</td>\n",
              "      <td>219.0</td>\n",
              "      <td>5500.0</td>\n",
              "      <td>Male</td>\n",
              "      <td>Torgersen</td>\n",
              "    </tr>\n",
              "    <tr>\n",
              "      <th>4</th>\n",
              "      <td>46.7</td>\n",
              "      <td>17.9</td>\n",
              "      <td>195.0</td>\n",
              "      <td>3300.0</td>\n",
              "      <td>Female</td>\n",
              "      <td>Biscoe</td>\n",
              "    </tr>\n",
              "    <tr>\n",
              "      <th>...</th>\n",
              "      <td>...</td>\n",
              "      <td>...</td>\n",
              "      <td>...</td>\n",
              "      <td>...</td>\n",
              "      <td>...</td>\n",
              "      <td>...</td>\n",
              "    </tr>\n",
              "    <tr>\n",
              "      <th>229</th>\n",
              "      <td>51.3</td>\n",
              "      <td>14.2</td>\n",
              "      <td>218.0</td>\n",
              "      <td>5300.0</td>\n",
              "      <td>Male</td>\n",
              "      <td>Torgersen</td>\n",
              "    </tr>\n",
              "    <tr>\n",
              "      <th>230</th>\n",
              "      <td>48.2</td>\n",
              "      <td>15.6</td>\n",
              "      <td>221.0</td>\n",
              "      <td>5100.0</td>\n",
              "      <td>Male</td>\n",
              "      <td>Torgersen</td>\n",
              "    </tr>\n",
              "    <tr>\n",
              "      <th>231</th>\n",
              "      <td>40.7</td>\n",
              "      <td>17.0</td>\n",
              "      <td>190.0</td>\n",
              "      <td>3725.0</td>\n",
              "      <td>Male</td>\n",
              "      <td>Biscoe</td>\n",
              "    </tr>\n",
              "    <tr>\n",
              "      <th>232</th>\n",
              "      <td>46.8</td>\n",
              "      <td>16.1</td>\n",
              "      <td>215.0</td>\n",
              "      <td>5500.0</td>\n",
              "      <td>Male</td>\n",
              "      <td>Torgersen</td>\n",
              "    </tr>\n",
              "    <tr>\n",
              "      <th>233</th>\n",
              "      <td>45.2</td>\n",
              "      <td>15.8</td>\n",
              "      <td>215.0</td>\n",
              "      <td>5300.0</td>\n",
              "      <td>Male</td>\n",
              "      <td>Torgersen</td>\n",
              "    </tr>\n",
              "  </tbody>\n",
              "</table>\n",
              "<p>234 rows × 6 columns</p>\n",
              "</div>\n",
              "      <button class=\"colab-df-convert\" onclick=\"convertToInteractive('df-27a6de2e-a93d-4c49-8b3b-99058fda3df9')\"\n",
              "              title=\"Convert this dataframe to an interactive table.\"\n",
              "              style=\"display:none;\">\n",
              "        \n",
              "  <svg xmlns=\"http://www.w3.org/2000/svg\" height=\"24px\"viewBox=\"0 0 24 24\"\n",
              "       width=\"24px\">\n",
              "    <path d=\"M0 0h24v24H0V0z\" fill=\"none\"/>\n",
              "    <path d=\"M18.56 5.44l.94 2.06.94-2.06 2.06-.94-2.06-.94-.94-2.06-.94 2.06-2.06.94zm-11 1L8.5 8.5l.94-2.06 2.06-.94-2.06-.94L8.5 2.5l-.94 2.06-2.06.94zm10 10l.94 2.06.94-2.06 2.06-.94-2.06-.94-.94-2.06-.94 2.06-2.06.94z\"/><path d=\"M17.41 7.96l-1.37-1.37c-.4-.4-.92-.59-1.43-.59-.52 0-1.04.2-1.43.59L10.3 9.45l-7.72 7.72c-.78.78-.78 2.05 0 2.83L4 21.41c.39.39.9.59 1.41.59.51 0 1.02-.2 1.41-.59l7.78-7.78 2.81-2.81c.8-.78.8-2.07 0-2.86zM5.41 20L4 18.59l7.72-7.72 1.47 1.35L5.41 20z\"/>\n",
              "  </svg>\n",
              "      </button>\n",
              "      \n",
              "  <style>\n",
              "    .colab-df-container {\n",
              "      display:flex;\n",
              "      flex-wrap:wrap;\n",
              "      gap: 12px;\n",
              "    }\n",
              "\n",
              "    .colab-df-convert {\n",
              "      background-color: #E8F0FE;\n",
              "      border: none;\n",
              "      border-radius: 50%;\n",
              "      cursor: pointer;\n",
              "      display: none;\n",
              "      fill: #1967D2;\n",
              "      height: 32px;\n",
              "      padding: 0 0 0 0;\n",
              "      width: 32px;\n",
              "    }\n",
              "\n",
              "    .colab-df-convert:hover {\n",
              "      background-color: #E2EBFA;\n",
              "      box-shadow: 0px 1px 2px rgba(60, 64, 67, 0.3), 0px 1px 3px 1px rgba(60, 64, 67, 0.15);\n",
              "      fill: #174EA6;\n",
              "    }\n",
              "\n",
              "    [theme=dark] .colab-df-convert {\n",
              "      background-color: #3B4455;\n",
              "      fill: #D2E3FC;\n",
              "    }\n",
              "\n",
              "    [theme=dark] .colab-df-convert:hover {\n",
              "      background-color: #434B5C;\n",
              "      box-shadow: 0px 1px 3px 1px rgba(0, 0, 0, 0.15);\n",
              "      filter: drop-shadow(0px 1px 2px rgba(0, 0, 0, 0.3));\n",
              "      fill: #FFFFFF;\n",
              "    }\n",
              "  </style>\n",
              "\n",
              "      <script>\n",
              "        const buttonEl =\n",
              "          document.querySelector('#df-27a6de2e-a93d-4c49-8b3b-99058fda3df9 button.colab-df-convert');\n",
              "        buttonEl.style.display =\n",
              "          google.colab.kernel.accessAllowed ? 'block' : 'none';\n",
              "\n",
              "        async function convertToInteractive(key) {\n",
              "          const element = document.querySelector('#df-27a6de2e-a93d-4c49-8b3b-99058fda3df9');\n",
              "          const dataTable =\n",
              "            await google.colab.kernel.invokeFunction('convertToInteractive',\n",
              "                                                     [key], {});\n",
              "          if (!dataTable) return;\n",
              "\n",
              "          const docLinkHtml = 'Like what you see? Visit the ' +\n",
              "            '<a target=\"_blank\" href=https://colab.research.google.com/notebooks/data_table.ipynb>data table notebook</a>'\n",
              "            + ' to learn more about interactive tables.';\n",
              "          element.innerHTML = '';\n",
              "          dataTable['output_type'] = 'display_data';\n",
              "          await google.colab.output.renderOutput(dataTable, element);\n",
              "          const docLink = document.createElement('div');\n",
              "          docLink.innerHTML = docLinkHtml;\n",
              "          element.appendChild(docLink);\n",
              "        }\n",
              "      </script>\n",
              "    </div>\n",
              "  </div>\n",
              "  "
            ]
          },
          "metadata": {},
          "execution_count": 247
        }
      ],
      "source": [
        "X_train = pd.read_csv(\"X_train.csv\")\n",
        "X_test  = pd.read_csv(\"X_test.csv\")\n",
        "y_test  = pd.read_csv(\"y_test.csv\")\n",
        "y_train = pd.read_csv(\"y_train.csv\")\n",
        "X_train"
      ]
    },
    {
      "cell_type": "markdown",
      "source": [
        "Notamos que tenemos dos columnas que tienen valores categoricos, por lo que debemos discretizarlas. Tanto en Los X como los y.\n"
      ],
      "metadata": {
        "id": "16ht3N037tPV"
      }
    },
    {
      "cell_type": "code",
      "source": [
        "X_train  =  pd.get_dummies(X_train,columns = ['sex', 'island']) # Discretizamos las columnas categoricas\n",
        "X_test =  pd.get_dummies(X_test,columns = ['sex', 'island']) # Discretizamos las columnas categoricas\n",
        "\n",
        "encoder = preprocessing.LabelEncoder()\n",
        "y_train['species'] =  encoder.fit_transform(y_train['species']) # Discretizamos las columnas categoricas\n",
        "y_test['species'] =  encoder.fit_transform(y_test['species']) # Discretizamos las columnas categoricas\n",
        "y_train['species'] = y_train['species'].apply(lambda x: x+1)\n",
        "y_test['species'] = y_test['species'].apply(lambda x: x+1)\n"
      ],
      "metadata": {
        "id": "rBgLYA63Rkoo"
      },
      "execution_count": 248,
      "outputs": []
    },
    {
      "cell_type": "markdown",
      "source": [
        "Con todo esto, nuestro dataframe de X e y nos quedan de la siguiente manera:"
      ],
      "metadata": {
        "id": "AEnWhMEzMU95"
      }
    },
    {
      "cell_type": "code",
      "source": [
        "display(X_train)\n",
        "display(y_train)"
      ],
      "metadata": {
        "id": "DZ6qS6MvWoy7",
        "colab": {
          "base_uri": "https://localhost:8080/",
          "height": 830
        },
        "outputId": "11d4b8b0-ecaa-4f93-fd5f-be385f9a77b3"
      },
      "execution_count": 249,
      "outputs": [
        {
          "output_type": "display_data",
          "data": {
            "text/plain": [
              "     culmen_length_mm  culmen_depth_mm  flipper_length_mm  body_mass_g  \\\n",
              "0                46.9             14.6              222.0       4875.0   \n",
              "1                49.8             17.3              198.0       3675.0   \n",
              "2                46.6             17.8              193.0       3800.0   \n",
              "3                53.4             15.8              219.0       5500.0   \n",
              "4                46.7             17.9              195.0       3300.0   \n",
              "..                ...              ...                ...          ...   \n",
              "229              51.3             14.2              218.0       5300.0   \n",
              "230              48.2             15.6              221.0       5100.0   \n",
              "231              40.7             17.0              190.0       3725.0   \n",
              "232              46.8             16.1              215.0       5500.0   \n",
              "233              45.2             15.8              215.0       5300.0   \n",
              "\n",
              "     sex_Female  sex_Male  island_Biscoe  island_Dream  island_Torgersen  \n",
              "0             1         0              0             0                 1  \n",
              "1             1         0              1             0                 0  \n",
              "2             1         0              1             0                 0  \n",
              "3             0         1              0             0                 1  \n",
              "4             1         0              1             0                 0  \n",
              "..          ...       ...            ...           ...               ...  \n",
              "229           0         1              0             0                 1  \n",
              "230           0         1              0             0                 1  \n",
              "231           0         1              1             0                 0  \n",
              "232           0         1              0             0                 1  \n",
              "233           0         1              0             0                 1  \n",
              "\n",
              "[234 rows x 9 columns]"
            ],
            "text/html": [
              "\n",
              "  <div id=\"df-5a9ee6d4-ea4d-44d4-8874-768e92c7a167\">\n",
              "    <div class=\"colab-df-container\">\n",
              "      <div>\n",
              "<style scoped>\n",
              "    .dataframe tbody tr th:only-of-type {\n",
              "        vertical-align: middle;\n",
              "    }\n",
              "\n",
              "    .dataframe tbody tr th {\n",
              "        vertical-align: top;\n",
              "    }\n",
              "\n",
              "    .dataframe thead th {\n",
              "        text-align: right;\n",
              "    }\n",
              "</style>\n",
              "<table border=\"1\" class=\"dataframe\">\n",
              "  <thead>\n",
              "    <tr style=\"text-align: right;\">\n",
              "      <th></th>\n",
              "      <th>culmen_length_mm</th>\n",
              "      <th>culmen_depth_mm</th>\n",
              "      <th>flipper_length_mm</th>\n",
              "      <th>body_mass_g</th>\n",
              "      <th>sex_Female</th>\n",
              "      <th>sex_Male</th>\n",
              "      <th>island_Biscoe</th>\n",
              "      <th>island_Dream</th>\n",
              "      <th>island_Torgersen</th>\n",
              "    </tr>\n",
              "  </thead>\n",
              "  <tbody>\n",
              "    <tr>\n",
              "      <th>0</th>\n",
              "      <td>46.9</td>\n",
              "      <td>14.6</td>\n",
              "      <td>222.0</td>\n",
              "      <td>4875.0</td>\n",
              "      <td>1</td>\n",
              "      <td>0</td>\n",
              "      <td>0</td>\n",
              "      <td>0</td>\n",
              "      <td>1</td>\n",
              "    </tr>\n",
              "    <tr>\n",
              "      <th>1</th>\n",
              "      <td>49.8</td>\n",
              "      <td>17.3</td>\n",
              "      <td>198.0</td>\n",
              "      <td>3675.0</td>\n",
              "      <td>1</td>\n",
              "      <td>0</td>\n",
              "      <td>1</td>\n",
              "      <td>0</td>\n",
              "      <td>0</td>\n",
              "    </tr>\n",
              "    <tr>\n",
              "      <th>2</th>\n",
              "      <td>46.6</td>\n",
              "      <td>17.8</td>\n",
              "      <td>193.0</td>\n",
              "      <td>3800.0</td>\n",
              "      <td>1</td>\n",
              "      <td>0</td>\n",
              "      <td>1</td>\n",
              "      <td>0</td>\n",
              "      <td>0</td>\n",
              "    </tr>\n",
              "    <tr>\n",
              "      <th>3</th>\n",
              "      <td>53.4</td>\n",
              "      <td>15.8</td>\n",
              "      <td>219.0</td>\n",
              "      <td>5500.0</td>\n",
              "      <td>0</td>\n",
              "      <td>1</td>\n",
              "      <td>0</td>\n",
              "      <td>0</td>\n",
              "      <td>1</td>\n",
              "    </tr>\n",
              "    <tr>\n",
              "      <th>4</th>\n",
              "      <td>46.7</td>\n",
              "      <td>17.9</td>\n",
              "      <td>195.0</td>\n",
              "      <td>3300.0</td>\n",
              "      <td>1</td>\n",
              "      <td>0</td>\n",
              "      <td>1</td>\n",
              "      <td>0</td>\n",
              "      <td>0</td>\n",
              "    </tr>\n",
              "    <tr>\n",
              "      <th>...</th>\n",
              "      <td>...</td>\n",
              "      <td>...</td>\n",
              "      <td>...</td>\n",
              "      <td>...</td>\n",
              "      <td>...</td>\n",
              "      <td>...</td>\n",
              "      <td>...</td>\n",
              "      <td>...</td>\n",
              "      <td>...</td>\n",
              "    </tr>\n",
              "    <tr>\n",
              "      <th>229</th>\n",
              "      <td>51.3</td>\n",
              "      <td>14.2</td>\n",
              "      <td>218.0</td>\n",
              "      <td>5300.0</td>\n",
              "      <td>0</td>\n",
              "      <td>1</td>\n",
              "      <td>0</td>\n",
              "      <td>0</td>\n",
              "      <td>1</td>\n",
              "    </tr>\n",
              "    <tr>\n",
              "      <th>230</th>\n",
              "      <td>48.2</td>\n",
              "      <td>15.6</td>\n",
              "      <td>221.0</td>\n",
              "      <td>5100.0</td>\n",
              "      <td>0</td>\n",
              "      <td>1</td>\n",
              "      <td>0</td>\n",
              "      <td>0</td>\n",
              "      <td>1</td>\n",
              "    </tr>\n",
              "    <tr>\n",
              "      <th>231</th>\n",
              "      <td>40.7</td>\n",
              "      <td>17.0</td>\n",
              "      <td>190.0</td>\n",
              "      <td>3725.0</td>\n",
              "      <td>0</td>\n",
              "      <td>1</td>\n",
              "      <td>1</td>\n",
              "      <td>0</td>\n",
              "      <td>0</td>\n",
              "    </tr>\n",
              "    <tr>\n",
              "      <th>232</th>\n",
              "      <td>46.8</td>\n",
              "      <td>16.1</td>\n",
              "      <td>215.0</td>\n",
              "      <td>5500.0</td>\n",
              "      <td>0</td>\n",
              "      <td>1</td>\n",
              "      <td>0</td>\n",
              "      <td>0</td>\n",
              "      <td>1</td>\n",
              "    </tr>\n",
              "    <tr>\n",
              "      <th>233</th>\n",
              "      <td>45.2</td>\n",
              "      <td>15.8</td>\n",
              "      <td>215.0</td>\n",
              "      <td>5300.0</td>\n",
              "      <td>0</td>\n",
              "      <td>1</td>\n",
              "      <td>0</td>\n",
              "      <td>0</td>\n",
              "      <td>1</td>\n",
              "    </tr>\n",
              "  </tbody>\n",
              "</table>\n",
              "<p>234 rows × 9 columns</p>\n",
              "</div>\n",
              "      <button class=\"colab-df-convert\" onclick=\"convertToInteractive('df-5a9ee6d4-ea4d-44d4-8874-768e92c7a167')\"\n",
              "              title=\"Convert this dataframe to an interactive table.\"\n",
              "              style=\"display:none;\">\n",
              "        \n",
              "  <svg xmlns=\"http://www.w3.org/2000/svg\" height=\"24px\"viewBox=\"0 0 24 24\"\n",
              "       width=\"24px\">\n",
              "    <path d=\"M0 0h24v24H0V0z\" fill=\"none\"/>\n",
              "    <path d=\"M18.56 5.44l.94 2.06.94-2.06 2.06-.94-2.06-.94-.94-2.06-.94 2.06-2.06.94zm-11 1L8.5 8.5l.94-2.06 2.06-.94-2.06-.94L8.5 2.5l-.94 2.06-2.06.94zm10 10l.94 2.06.94-2.06 2.06-.94-2.06-.94-.94-2.06-.94 2.06-2.06.94z\"/><path d=\"M17.41 7.96l-1.37-1.37c-.4-.4-.92-.59-1.43-.59-.52 0-1.04.2-1.43.59L10.3 9.45l-7.72 7.72c-.78.78-.78 2.05 0 2.83L4 21.41c.39.39.9.59 1.41.59.51 0 1.02-.2 1.41-.59l7.78-7.78 2.81-2.81c.8-.78.8-2.07 0-2.86zM5.41 20L4 18.59l7.72-7.72 1.47 1.35L5.41 20z\"/>\n",
              "  </svg>\n",
              "      </button>\n",
              "      \n",
              "  <style>\n",
              "    .colab-df-container {\n",
              "      display:flex;\n",
              "      flex-wrap:wrap;\n",
              "      gap: 12px;\n",
              "    }\n",
              "\n",
              "    .colab-df-convert {\n",
              "      background-color: #E8F0FE;\n",
              "      border: none;\n",
              "      border-radius: 50%;\n",
              "      cursor: pointer;\n",
              "      display: none;\n",
              "      fill: #1967D2;\n",
              "      height: 32px;\n",
              "      padding: 0 0 0 0;\n",
              "      width: 32px;\n",
              "    }\n",
              "\n",
              "    .colab-df-convert:hover {\n",
              "      background-color: #E2EBFA;\n",
              "      box-shadow: 0px 1px 2px rgba(60, 64, 67, 0.3), 0px 1px 3px 1px rgba(60, 64, 67, 0.15);\n",
              "      fill: #174EA6;\n",
              "    }\n",
              "\n",
              "    [theme=dark] .colab-df-convert {\n",
              "      background-color: #3B4455;\n",
              "      fill: #D2E3FC;\n",
              "    }\n",
              "\n",
              "    [theme=dark] .colab-df-convert:hover {\n",
              "      background-color: #434B5C;\n",
              "      box-shadow: 0px 1px 3px 1px rgba(0, 0, 0, 0.15);\n",
              "      filter: drop-shadow(0px 1px 2px rgba(0, 0, 0, 0.3));\n",
              "      fill: #FFFFFF;\n",
              "    }\n",
              "  </style>\n",
              "\n",
              "      <script>\n",
              "        const buttonEl =\n",
              "          document.querySelector('#df-5a9ee6d4-ea4d-44d4-8874-768e92c7a167 button.colab-df-convert');\n",
              "        buttonEl.style.display =\n",
              "          google.colab.kernel.accessAllowed ? 'block' : 'none';\n",
              "\n",
              "        async function convertToInteractive(key) {\n",
              "          const element = document.querySelector('#df-5a9ee6d4-ea4d-44d4-8874-768e92c7a167');\n",
              "          const dataTable =\n",
              "            await google.colab.kernel.invokeFunction('convertToInteractive',\n",
              "                                                     [key], {});\n",
              "          if (!dataTable) return;\n",
              "\n",
              "          const docLinkHtml = 'Like what you see? Visit the ' +\n",
              "            '<a target=\"_blank\" href=https://colab.research.google.com/notebooks/data_table.ipynb>data table notebook</a>'\n",
              "            + ' to learn more about interactive tables.';\n",
              "          element.innerHTML = '';\n",
              "          dataTable['output_type'] = 'display_data';\n",
              "          await google.colab.output.renderOutput(dataTable, element);\n",
              "          const docLink = document.createElement('div');\n",
              "          docLink.innerHTML = docLinkHtml;\n",
              "          element.appendChild(docLink);\n",
              "        }\n",
              "      </script>\n",
              "    </div>\n",
              "  </div>\n",
              "  "
            ]
          },
          "metadata": {}
        },
        {
          "output_type": "display_data",
          "data": {
            "text/plain": [
              "     species\n",
              "0          3\n",
              "1          2\n",
              "2          2\n",
              "3          3\n",
              "4          2\n",
              "..       ...\n",
              "229        3\n",
              "230        3\n",
              "231        1\n",
              "232        3\n",
              "233        3\n",
              "\n",
              "[234 rows x 1 columns]"
            ],
            "text/html": [
              "\n",
              "  <div id=\"df-61ee6a4c-dc3e-495a-aad0-7d41718728f0\">\n",
              "    <div class=\"colab-df-container\">\n",
              "      <div>\n",
              "<style scoped>\n",
              "    .dataframe tbody tr th:only-of-type {\n",
              "        vertical-align: middle;\n",
              "    }\n",
              "\n",
              "    .dataframe tbody tr th {\n",
              "        vertical-align: top;\n",
              "    }\n",
              "\n",
              "    .dataframe thead th {\n",
              "        text-align: right;\n",
              "    }\n",
              "</style>\n",
              "<table border=\"1\" class=\"dataframe\">\n",
              "  <thead>\n",
              "    <tr style=\"text-align: right;\">\n",
              "      <th></th>\n",
              "      <th>species</th>\n",
              "    </tr>\n",
              "  </thead>\n",
              "  <tbody>\n",
              "    <tr>\n",
              "      <th>0</th>\n",
              "      <td>3</td>\n",
              "    </tr>\n",
              "    <tr>\n",
              "      <th>1</th>\n",
              "      <td>2</td>\n",
              "    </tr>\n",
              "    <tr>\n",
              "      <th>2</th>\n",
              "      <td>2</td>\n",
              "    </tr>\n",
              "    <tr>\n",
              "      <th>3</th>\n",
              "      <td>3</td>\n",
              "    </tr>\n",
              "    <tr>\n",
              "      <th>4</th>\n",
              "      <td>2</td>\n",
              "    </tr>\n",
              "    <tr>\n",
              "      <th>...</th>\n",
              "      <td>...</td>\n",
              "    </tr>\n",
              "    <tr>\n",
              "      <th>229</th>\n",
              "      <td>3</td>\n",
              "    </tr>\n",
              "    <tr>\n",
              "      <th>230</th>\n",
              "      <td>3</td>\n",
              "    </tr>\n",
              "    <tr>\n",
              "      <th>231</th>\n",
              "      <td>1</td>\n",
              "    </tr>\n",
              "    <tr>\n",
              "      <th>232</th>\n",
              "      <td>3</td>\n",
              "    </tr>\n",
              "    <tr>\n",
              "      <th>233</th>\n",
              "      <td>3</td>\n",
              "    </tr>\n",
              "  </tbody>\n",
              "</table>\n",
              "<p>234 rows × 1 columns</p>\n",
              "</div>\n",
              "      <button class=\"colab-df-convert\" onclick=\"convertToInteractive('df-61ee6a4c-dc3e-495a-aad0-7d41718728f0')\"\n",
              "              title=\"Convert this dataframe to an interactive table.\"\n",
              "              style=\"display:none;\">\n",
              "        \n",
              "  <svg xmlns=\"http://www.w3.org/2000/svg\" height=\"24px\"viewBox=\"0 0 24 24\"\n",
              "       width=\"24px\">\n",
              "    <path d=\"M0 0h24v24H0V0z\" fill=\"none\"/>\n",
              "    <path d=\"M18.56 5.44l.94 2.06.94-2.06 2.06-.94-2.06-.94-.94-2.06-.94 2.06-2.06.94zm-11 1L8.5 8.5l.94-2.06 2.06-.94-2.06-.94L8.5 2.5l-.94 2.06-2.06.94zm10 10l.94 2.06.94-2.06 2.06-.94-2.06-.94-.94-2.06-.94 2.06-2.06.94z\"/><path d=\"M17.41 7.96l-1.37-1.37c-.4-.4-.92-.59-1.43-.59-.52 0-1.04.2-1.43.59L10.3 9.45l-7.72 7.72c-.78.78-.78 2.05 0 2.83L4 21.41c.39.39.9.59 1.41.59.51 0 1.02-.2 1.41-.59l7.78-7.78 2.81-2.81c.8-.78.8-2.07 0-2.86zM5.41 20L4 18.59l7.72-7.72 1.47 1.35L5.41 20z\"/>\n",
              "  </svg>\n",
              "      </button>\n",
              "      \n",
              "  <style>\n",
              "    .colab-df-container {\n",
              "      display:flex;\n",
              "      flex-wrap:wrap;\n",
              "      gap: 12px;\n",
              "    }\n",
              "\n",
              "    .colab-df-convert {\n",
              "      background-color: #E8F0FE;\n",
              "      border: none;\n",
              "      border-radius: 50%;\n",
              "      cursor: pointer;\n",
              "      display: none;\n",
              "      fill: #1967D2;\n",
              "      height: 32px;\n",
              "      padding: 0 0 0 0;\n",
              "      width: 32px;\n",
              "    }\n",
              "\n",
              "    .colab-df-convert:hover {\n",
              "      background-color: #E2EBFA;\n",
              "      box-shadow: 0px 1px 2px rgba(60, 64, 67, 0.3), 0px 1px 3px 1px rgba(60, 64, 67, 0.15);\n",
              "      fill: #174EA6;\n",
              "    }\n",
              "\n",
              "    [theme=dark] .colab-df-convert {\n",
              "      background-color: #3B4455;\n",
              "      fill: #D2E3FC;\n",
              "    }\n",
              "\n",
              "    [theme=dark] .colab-df-convert:hover {\n",
              "      background-color: #434B5C;\n",
              "      box-shadow: 0px 1px 3px 1px rgba(0, 0, 0, 0.15);\n",
              "      filter: drop-shadow(0px 1px 2px rgba(0, 0, 0, 0.3));\n",
              "      fill: #FFFFFF;\n",
              "    }\n",
              "  </style>\n",
              "\n",
              "      <script>\n",
              "        const buttonEl =\n",
              "          document.querySelector('#df-61ee6a4c-dc3e-495a-aad0-7d41718728f0 button.colab-df-convert');\n",
              "        buttonEl.style.display =\n",
              "          google.colab.kernel.accessAllowed ? 'block' : 'none';\n",
              "\n",
              "        async function convertToInteractive(key) {\n",
              "          const element = document.querySelector('#df-61ee6a4c-dc3e-495a-aad0-7d41718728f0');\n",
              "          const dataTable =\n",
              "            await google.colab.kernel.invokeFunction('convertToInteractive',\n",
              "                                                     [key], {});\n",
              "          if (!dataTable) return;\n",
              "\n",
              "          const docLinkHtml = 'Like what you see? Visit the ' +\n",
              "            '<a target=\"_blank\" href=https://colab.research.google.com/notebooks/data_table.ipynb>data table notebook</a>'\n",
              "            + ' to learn more about interactive tables.';\n",
              "          element.innerHTML = '';\n",
              "          dataTable['output_type'] = 'display_data';\n",
              "          await google.colab.output.renderOutput(dataTable, element);\n",
              "          const docLink = document.createElement('div');\n",
              "          docLink.innerHTML = docLinkHtml;\n",
              "          element.appendChild(docLink);\n",
              "        }\n",
              "      </script>\n",
              "    </div>\n",
              "  </div>\n",
              "  "
            ]
          },
          "metadata": {}
        }
      ]
    },
    {
      "cell_type": "markdown",
      "metadata": {
        "id": "cswWTdd2ZXK6"
      },
      "source": [
        "# Parte 2: Árboles de decisión (1.5 ptos.)\n",
        "\n"
      ]
    },
    {
      "cell_type": "markdown",
      "metadata": {
        "id": "CIG48Og6KhTj"
      },
      "source": [
        "Lo primero que debes realizar es implementar un árbol de decisión que permita clasificar los distintos tipos de pingüinos (`y`) en base a un set datos (`X`). \n",
        " \n",
        "Para esto deberás implementar una clase que tenga los métodos `fit` y `predict`:\n",
        "- El método `fit` recibe un set `X` e `y`, donde `X` corresponde a un DataFrame e `y` es una serie con la clasificación de cada pingüino. A partir de estos datos, genera y almacena un árbol de decisión.\n",
        "- El método `predict` solo recibe un set `X` (del mismo número de dimensiones que el usado para `fit`) y utiliza el árbol generado anteriormente para predecir la clase de cada dato de `X`.\n",
        "\n",
        "El árbol implementado en esta primera parte **NO** debe presentar limitaciones en cuanto a la cantidad de niveles de profundidad que tenga."
      ]
    },
    {
      "cell_type": "code",
      "execution_count": 252,
      "metadata": {
        "id": "0Bh0GJ_QZYm8",
        "colab": {
          "base_uri": "https://localhost:8080/"
        },
        "outputId": "d7711719-2f02-4762-eea1-5479aeeda1a0"
      },
      "outputs": [
        {
          "output_type": "stream",
          "name": "stdout",
          "text": [
            "accuracy de: 0.95\n",
            "              precision    recall  f1-score   support\n",
            "\n",
            "           1       0.90      0.97      0.94        39\n",
            "           2       0.95      0.83      0.89        24\n",
            "           3       1.00      1.00      1.00        37\n",
            "\n",
            "    accuracy                           0.95       100\n",
            "   macro avg       0.95      0.94      0.94       100\n",
            "weighted avg       0.95      0.95      0.95       100\n",
            "\n"
          ]
        }
      ],
      "source": [
        "class tree():\n",
        "  def __init__(self):\n",
        "    self.tree = DecisionTreeClassifier()\n",
        "  def fit(self, X_train, y_train):\n",
        "    self.tree.fit(X_train, y_train)\n",
        "  def predict(self, X_test):\n",
        "    return self.tree.predict(X_test)\n",
        "\n",
        "\n",
        "\n",
        "model = tree()\n",
        "model.fit(X_train,y_train)\n",
        "y_predict = model.predict(X_test)\n",
        "print(f\"accuracy de: {accuracy_score(y_test,y_predict)}\")\n",
        "\n",
        "print(classification_report(y_test,y_predict))"
      ]
    },
    {
      "cell_type": "code",
      "execution_count": 253,
      "metadata": {
        "id": "IZ-08t4QK0-k",
        "colab": {
          "base_uri": "https://localhost:8080/"
        },
        "outputId": "33e4ca0f-64d8-445b-85c0-6e847c646962"
      },
      "outputs": [
        {
          "output_type": "stream",
          "name": "stdout",
          "text": [
            "accuracy de: 0.94\n",
            "              precision    recall  f1-score   support\n",
            "\n",
            "           1       0.88      0.97      0.93        39\n",
            "           2       0.95      0.79      0.86        24\n",
            "           3       1.00      1.00      1.00        37\n",
            "\n",
            "    accuracy                           0.94       100\n",
            "   macro avg       0.94      0.92      0.93       100\n",
            "weighted avg       0.94      0.94      0.94       100\n",
            "\n"
          ]
        }
      ],
      "source": [
        "class tree_max():\n",
        "  def __init__(self):\n",
        "    self.tree = DecisionTreeClassifier(max_depth = 3)\n",
        "  def fit(self, X_train, y_train):\n",
        "    self.tree.fit(X_train, y_train)\n",
        "  def predict(self, X_test):\n",
        "    return self.tree.predict(X_test)\n",
        "\n",
        "model2 = tree_max()\n",
        "model2.fit(X_train,y_train)\n",
        "y_predict2 = model2.predict(X_test)\n",
        "print(f\"accuracy de: {accuracy_score(y_test,y_predict2)}\")\n",
        "\n",
        "print(classification_report(y_test,y_predict2))"
      ]
    },
    {
      "cell_type": "markdown",
      "source": [
        ""
      ],
      "metadata": {
        "id": "MpmZzoHlNMmw"
      }
    },
    {
      "cell_type": "markdown",
      "metadata": {
        "id": "llJyUHAJK_R0"
      },
      "source": [
        "A partir de la implementación de ambos árboles de decisión, responde la siguiente pregunta:\n",
        "> ¿Cuál de los árboles de decisión generó mejores resultados? <br> Justifique su respuesta en base a los resultados del _testing set_ y el uso de métricas de evaluación.  \n"
      ]
    },
    {
      "cell_type": "markdown",
      "metadata": {
        "id": "DOpvc1FpRSYA"
      },
      "source": [
        "Los mejores resultados los tuvo el arbol de decicison, sin un maximo de 3 niveles de profundidad con un accuraccy de 95% versus un 94% del que tenia maxima profundidad. A pesar de esto, las diferencias no fueron muchas. Esto talvez se puede explicar de mejor manera con los arboles mostrados, por lo que usaremos plot_tree. "
      ]
    },
    {
      "cell_type": "code",
      "source": [
        "tree_1 = plot_tree(model.tree)"
      ],
      "metadata": {
        "id": "TMHNs-f6IPR1",
        "colab": {
          "base_uri": "https://localhost:8080/",
          "height": 248
        },
        "outputId": "b3bc24fd-f4d5-42c4-b05d-0fa6837c8c09"
      },
      "execution_count": 234,
      "outputs": [
        {
          "output_type": "display_data",
          "data": {
            "text/plain": [
              "<Figure size 432x288 with 1 Axes>"
            ],
            "image/png": "[encoded data removed]"
          },
          "metadata": {
            "needs_background": "light"
          }
        }
      ]
    },
    {
      "cell_type": "code",
      "source": [
        "tree_2 =plot_tree(model2.tree)"
      ],
      "metadata": {
        "colab": {
          "base_uri": "https://localhost:8080/",
          "height": 248
        },
        "id": "VD8TWLkWNZvN",
        "outputId": "1f190d9f-8b91-45c0-cd2f-79a253f74d56"
      },
      "execution_count": 235,
      "outputs": [
        {
          "output_type": "display_data",
          "data": {
            "text/plain": [
              "<Figure size 432x288 with 1 Axes>"
            ],
            "image/png": "[encoded data removed]"
          },
          "metadata": {
            "needs_background": "light"
          }
        }
      ]
    },
    {
      "cell_type": "markdown",
      "source": [
        "teniendo esto, notamos que en el arbol sin niveles maximos de profundidad, llega a un total de 5 niveles. Esto podria explicar parte de la poca diferencia de accuracy de prediccion. Ya que a pesar de que en el caso de tener 3 niveles como maximo de profundidad, no se pierden tantas \"expansiones\" del arbol, por lo que son pocos los casos en los que el arbol sin niveles maximos, llega a las ramas mas inferiores."
      ],
      "metadata": {
        "id": "IP-qAXupNnFk"
      }
    },
    {
      "cell_type": "markdown",
      "metadata": {
        "id": "j41IZDCGZjqd"
      },
      "source": [
        "# Parte 3: Random Forest (4 ptos.)"
      ]
    },
    {
      "cell_type": "markdown",
      "metadata": {
        "id": "M15XexbN5r5L"
      },
      "source": [
        "A continuación deberas implementar un _Random Forest_ compuesto por 3 árboles de decisión.\n",
        " \n",
        "Para ello deberás crear la clase `RandomForest` que deberá contener los métodos `fit`, `calculate_oob` y `predict`:\n",
        "- El método `fit` recibe un set `X` e `y`, donde `X` corresponde a un DataFrame e `y` es una serie con la clasificación de cada pingüino. A partir de estos datos, la función genera y almacena los árboles de decisión asociados al _random forest_.\n",
        "Al momento de generar cada árbol de decisión, deberás realizar lo siguiente:\n",
        "    1. Para cada árbol a generar:\n",
        "        1. Obtener un _sample_ aleatorio de 5 de las _features_ que componen `X`.\n",
        "        2. Separa los datos contenidos en `X` e `y` en un set de entrenamiento y otro de testeo.\n",
        "        3. Entrenar el árbol de decisión, en base al set de entrenamiento obtenido en el paso anterior.\n",
        "        4. Almacenar el árbol generado.\n",
        "    2. Calcula el OOB error del árbol.\n",
        "- El método `calculate_oob`, calcula el _Out-of-bag error_ del Random Forest. \n",
        "- El método `predict` recibe un set `X` (del mismo número de dimensiones que el usado para `fit`) y a partir de los árboles de decisión generados predice la clase a la que pertenece de cada dato de `X`.\n"
      ]
    },
    {
      "cell_type": "code",
      "execution_count": 236,
      "metadata": {
        "id": "yFAA5d-XZk6q"
      },
      "outputs": [],
      "source": [
        "def select(first, second):\n",
        "  keys = []\n",
        "\n",
        "  for key in first:\n",
        "    if key in second:\n",
        "      keys.append(key)\n",
        "\n",
        "    else:\n",
        "      pass\n",
        "\n",
        "  return keys\n",
        "\n",
        "\n",
        "\n",
        "class RandomForest():\n",
        "  \n",
        "  def __init__(self, tree_numbers, max_features):\n",
        "    self.tree_numbers = tree_numbers\n",
        "    self.max_features = max_features\n",
        "\n",
        "\n",
        "  def choice(self, keys, amount): #This return the columns that we want to delete.\n",
        "    return random.sample(list(keys), amount - self.max_features)\n",
        "\n",
        "  def fit(self, X_train_initial, y_train_initial):\n",
        "\n",
        "    self.initial = pd.DataFrame(list(range(0, len(y_train_initial))),  columns =['index_column'])\n",
        "    self.initial['real'] = y_train_initial['species']\n",
        "    nulls = [0]*len(y_train_initial)\n",
        "\n",
        "    for i in range(self.tree_numbers):\n",
        "      self.initial[f'tree_{i+1}'] = nulls\n",
        "\n",
        "    self.trees = [0] * self.tree_numbers\n",
        "\n",
        "    for i in range(self.tree_numbers):\n",
        "      X_train, X_test, y_train, y_test = train_test_split(X_train_initial, y_train_initial)\n",
        "\n",
        "      keys = len(X_train.keys()) #here we choose the columns that we are goin to delete\n",
        "      selected = self.choice(X_train.keys(), keys)\n",
        "      for column in selected:\n",
        "        del X_train[f\"{column}\"]\n",
        "        del X_test[f\"{column}\"]\n",
        "\n",
        "      actual_tree = DecisionTreeClassifier()   # We train the actual tree\n",
        "      actual_tree.fit(X_train, y_train)\n",
        "      y_predict = actual_tree.predict(X_test)  # We predict with the random test\n",
        "\n",
        "      self.trees[i] = actual_tree\n",
        "      actual = 0\n",
        "      for index in y_test.index:\n",
        "        self.initial[f\"tree_{i+1}\"][index] = y_predict[actual] # We actualize the test dataframe\n",
        "        actual +=1\n",
        "\n",
        "    delete = []\n",
        "    are = []\n",
        "    for index, row in self.initial.iterrows():\n",
        "      if row[\"tree_1\"]+row[\"tree_2\"] + row[\"tree_3\"] == 0:\n",
        "        delete.append(index) #We add to a list the rows that arent in any test option\n",
        "\n",
        "    self.initial = self.initial.drop(index=delete) # we delete that arent in any test tree\n",
        "\n",
        "\n",
        "\n",
        "  def calculate_oob(self):\n",
        "    y_final_prediction = []\n",
        "\n",
        "    for index, row in self.initial.iterrows():\n",
        "      trees = row[2:]\n",
        "      options = [0] * self.tree_numbers\n",
        "\n",
        "      for option in trees: # Chooice by majority of random if there is only two options and two values.\n",
        "        if option:\n",
        "          options[option-1] += 1\n",
        "\n",
        "      final_decision = options.index(max(options))+1\n",
        "      y_final_prediction.append(final_decision)\n",
        "    \n",
        "    oob_error = 1 - accuracy_score(y_final_prediction, self.initial[\"real\"])\n",
        "    return oob_error\n",
        "    \n",
        "  \n",
        "  def predict(self, X_test):\n",
        "\n",
        "    y_predict = []\n",
        "    y_options = []\n",
        "\n",
        "    for tree in self.trees:\n",
        "      del_keys_tree = select(X_test.keys(), tree.feature_names_in_) # we obtain what keys are from this tree\n",
        "      X_tree = X_test[del_keys_tree]\n",
        "      y_options.append(tree.predict(X_tree))      #We append to a list to have \"columns and row\" of the predicted values.\n",
        "\n",
        "    for row in range(len(X_test)):\n",
        "      option_trees = [0] * self.tree_numbers\n",
        "\n",
        "      for index_col in range(len(y_options)):\n",
        "        option_trees[index_col] = y_options[index_col][row]\n",
        "\n",
        "      options = [0] * self.tree_numbers\n",
        "      for option in option_trees:    # Chooice by majority of random if there is only two options and two values.\n",
        "        if option:\n",
        "          options[option-1] += 1\n",
        "\n",
        "      final_decision = options.index(max(options))+1\n",
        "      y_predict.append(final_decision) #We obtain the value predicted, by majority vote\n",
        "\n",
        "    return y_predict"
      ]
    },
    {
      "cell_type": "code",
      "source": [
        "model_random_forest = RandomForest(3, 5)\n",
        "model_random_forest.fit(X_train, y_train) \n",
        "print(f\"Out-of-bag error obtenido: {round(model_random_forest.calculate_oob(),3)*100}%\")\n",
        "y_predict = model_random_forest.predict(X_test)\n",
        "\n",
        "print(accuracy_score(y_test,y_predict))\n",
        "\n",
        "print(classification_report(y_test,y_predict))"
      ],
      "metadata": {
        "colab": {
          "base_uri": "https://localhost:8080/"
        },
        "id": "XWvoYGChEnMu",
        "outputId": "11626acd-b1c0-41b9-f1bc-7d44723d1127"
      },
      "execution_count": 237,
      "outputs": [
        {
          "output_type": "stream",
          "name": "stdout",
          "text": [
            "Out-of-bag error obtenido: 9.4%\n",
            "0.99\n",
            "              precision    recall  f1-score   support\n",
            "\n",
            "           1       0.97      1.00      0.99        39\n",
            "           2       1.00      0.96      0.98        24\n",
            "           3       1.00      1.00      1.00        37\n",
            "\n",
            "    accuracy                           0.99       100\n",
            "   macro avg       0.99      0.99      0.99       100\n",
            "weighted avg       0.99      0.99      0.99       100\n",
            "\n"
          ]
        }
      ]
    },
    {
      "cell_type": "markdown",
      "metadata": {
        "id": "vzHt4AMX5Ztb"
      },
      "source": [
        "A partir de la implementación del _Random Forest_, responde las siguientes preguntas:\n",
        "> 1. ¿Cuál fue el _Out-of-bag error_ obtenido? ¿Qué se puede hacer para mejorar este valor?\n",
        "\n",
        "> 2. Comparando con los resultados, ¿qué método dio mejores resultados?  <br> Justifique su respuesta en base a los resultados del _testing set_ y el uso de métricas de evaluación.  \n"
      ]
    },
    {
      "cell_type": "markdown",
      "metadata": {
        "id": "bdB_r5qE5scm"
      },
      "source": [
        "1.   El error fue del 7.1%, lo que se podria hacer para mejorar el valor es intentar \n",
        "tener una mayor cantidad de arboles de decision y talvez buscar cual es el mejor parametro para la cantidad de features a elegir, dadas las que tenemos.\n",
        "2.   El metodo de random forest tuvo un accuraccy de 99%, por lo que vs los otros dos opciones, fue el que tuvo mejores resultados. Esto se puede deber a que al tener distintos arboles posibles. Se hace un sistema de \"votacion\" donde gana la mayoria. Esto genera que el error disminuya y que sea mas acorde a como deberian ser realmente. Tambien para los casos de empate en este sitema de \"votacion\" el que aparesca primero es el escogido, debido a que en teoria ambas opciones tienen la misma probabilidad de ser la correcta.\n"
      ]
    },
    {
      "cell_type": "markdown",
      "metadata": {
        "id": "eZjAQ46Wxusr"
      },
      "source": [
        "# Bonus\n",
        "\n",
        "Esta tarea cuenta con una serie de bonus a los que podrás optar. Cabe recalcar que para optar a estos beneficios la nota de tu tarea (sin bonus) debe ser **igual o superior a 3,95** (sin considerar posibles descuentos)."
      ]
    },
    {
      "cell_type": "markdown",
      "metadata": {
        "id": "ZIBK2KuNetj7"
      },
      "source": [
        "## Meme (1-2 décimas)\n",
        "\n",
        "Haga un meme relacionado a la material del curso. Si es bueno, podrá optar a décimas extra. "
      ]
    },
    {
      "cell_type": "code",
      "execution_count": null,
      "metadata": {
        "id": "QO23vp-imI-6"
      },
      "outputs": [],
      "source": [
        ""
      ]
    },
    {
      "cell_type": "markdown",
      "metadata": {
        "id": "e6EDTByrezWI"
      },
      "source": [
        "## Random Forest Parámetrizado (3 décimas)\n",
        "\n",
        "A partir del código implementado anteriormente, genere una nueva clase que permita un _Random Forest_ donde los siguientes valores sean **variables de instancia** de clase y, que a su vez, permitan modificar el comportamiento del algoritmo:\n",
        "- `tree_numbers`: int que indica la cantidad de árboles por la que estará compuesto el Random Forest.\n",
        "- `n_features`: int que indica la cantidad de _features_ a considerar para generar el _sample_ de cada árbol de decisión.\n",
        "- `criterion`: string que indica la función a utilizar para medir la calidad de un _split_.\n",
        "- `max_depth`: int que indica la profundidad máxima de los árboles.\n",
        "- `min_sample_split`: int o float que indica la cantidad mínima de _samples_ requeridos para dividir un nodo de los árboles. \n",
        "- `max_features`: int, float o string que indica la cantidad de _features_ a considerar al momento de generar el árbol. \n",
        " \n",
        "A excepción de `tree_numbers` y `n_features` todas estas variables deben ser opcionales, por lo que queda a tu criterio los valores por defecto a utilizar en cada caso. <br><br>\n",
        "\n",
        "Para obtener este beneficio, el bonus debe estar implementado en su totalidad, ya que no se entregará puntaje intermedio. "
      ]
    },
    {
      "cell_type": "code",
      "source": [
        ""
      ],
      "metadata": {
        "id": "T4UCPzGuPGTj"
      },
      "execution_count": 217,
      "outputs": []
    }
  ],
  "metadata": {
    "colab": {
      "collapsed_sections": [],
      "name": "Tarea2.ipynb",
      "provenance": []
    },
    "kernelspec": {
      "display_name": "Python 3",
      "name": "python3"
    },
    "language_info": {
      "name": "python"
    }
  },
  "nbformat": 4,
  "nbformat_minor": 0
}